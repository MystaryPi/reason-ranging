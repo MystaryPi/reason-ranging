{
 "cells": [
  {
   "cell_type": "markdown",
   "id": "8c705e14",
   "metadata": {},
   "source": [
    "# Phase Shift Approach - Velocity Measurements\n",
    "\n",
    "Castelletti et al. searches for the correct slope of a surface by sweeping ranges/velocities and finding the correct phase correction by maximizing post-summed SNR. Here, we can employ a similar methodology but to find the correct spacecraft velocity.\n",
    "\n",
    "- Surface echoes from Europa for ranging measurements will arrive later as the spacecraft moves away from the moon. \n",
    "- We can sum the received signals, each shifted with a phase correction $\\Delta \\phi$, to maximize post-summed SNR.\n",
    "- We sweep ranging measurements to seek the correct velocities. \n",
    "\n",
    "This is advantageous because (i) velocity measurements can occur alongside ranging, without previous constraints from Doppler frequency; (ii) aliased results can be eliminated by comparing with Clipper's orbital properties in SPICE; and (iii) uncertainties in range and velocity can be found, across the parameter space."
   ]
  },
  {
   "cell_type": "code",
   "execution_count": 1,
   "id": "188d7569",
   "metadata": {},
   "outputs": [],
   "source": [
    "import numpy as np\n",
    "import matplotlib.pyplot as plt\n",
    "import scipy\n",
    "import matplotlib.ticker as mticker\n",
    "import math"
   ]
  },
  {
   "cell_type": "markdown",
   "id": "04d716b1",
   "metadata": {},
   "source": [
    "### 1) Model surface echoes (ranging measurements) from Europa \n",
    "Modelling chirps with a changing time delay (depends on Clipper's range), and with amplitude decreasing with $\\frac{1}{16 \\pi d^4}$.\n",
    "### 2) Shift surface echoes by phase, for a velocity \n",
    "For each of the surface echoes above, shift surface echoes by a phase for each velocity. Change in phase shift = $2 \\pi \\Delta d / \\lambda$ from Sean's paper."
   ]
  },
  {
   "cell_type": "code",
   "execution_count": 2,
   "id": "4df2c929",
   "metadata": {},
   "outputs": [],
   "source": [
    "# REASON parameters\n",
    "Pt = 10 # W\n",
    "Gt = 10**(6/10) # 6 dB -> B\n",
    "c = 2.998e8 # m/s\n",
    "rcs = 2.5e10 # for HF, but we can assume for both\n",
    "\n",
    "hf_wavelength = c/(9e6) # m\n",
    "vhf_wavelength = c/(60e6) # m\n",
    "\n",
    "# Set parameters\n",
    "hf_pulse_length = 200e-6 # s\n",
    "hf_repetition_freq = 4000 # Hz\n",
    "hf_bandwidth = 1e6 # Hz\n",
    "hf_s = hf_bandwidth/hf_pulse_length # chirp slope, Hz/s\n",
    "hf_fc = 0 # Hz #9e6 is true value, assume 0 because the hardware downconverts to baseband\n",
    "\n",
    "vhf_pulse_length = 236e-6 # s\n",
    "vhf_repetition_freq = 4000 # Hz\n",
    "vhf_bandwidth = 10e6 # Hz\n",
    "vhf_s = vhf_bandwidth/vhf_pulse_length # chirp slope, Hz/s\n",
    "vhf_fc = 60e6 # Hz\n",
    "\n",
    "# sampling freqs\n",
    "# 2x complex-valued baseband sampling rate\n",
    "hf_fs = 2.4e6 \n",
    "vhf_fs = 24e6"
   ]
  },
  {
   "cell_type": "code",
   "execution_count": 3,
   "id": "31574318",
   "metadata": {},
   "outputs": [],
   "source": [
    "def radar_equation(Pt, Gt, d, rcs, wavelength):\n",
    "    # From the gain, determine the effective area of REASON\n",
    "    Ae = (Gt*wavelength**2)/(4*np.pi)\n",
    "    \n",
    "    return ((Pt*Gt)/(4*np.pi*d**2))*((rcs*Ae)/(4*np.pi*d**2)) # return power received"
   ]
  },
  {
   "cell_type": "code",
   "execution_count": 4,
   "id": "fb376a37",
   "metadata": {},
   "outputs": [],
   "source": [
    "def chirp(s, tau, fs, fc, start, n, phase_shift):\n",
    "    # s: slope\n",
    "    # tau: pulse length\n",
    "    # fs: sample rate\n",
    "    # fc: center frequency\n",
    "    # start: starting index of chirp\n",
    "    # n: the length of the chirp including zero\n",
    "\n",
    "    dt = 1 / fs\n",
    "    npts = int(tau * fs)\n",
    "    t = np.arange(-npts/2, npts/2) * dt\n",
    "    phase = np.pi * s * t**2 + 2 * np.pi * fc * t + phase_shift\n",
    "    \n",
    "    chirp = np.zeros(n, dtype = np.complex_)\n",
    "    chirp[start:len(phase)+start] = np.exp(1j * phase) # nonzero portion\n",
    "\n",
    "    return chirp"
   ]
  },
  {
   "cell_type": "code",
   "execution_count": 5,
   "id": "cefb8992",
   "metadata": {},
   "outputs": [],
   "source": [
    "from tqdm import tqdm\n",
    "\n",
    "# Modelling ranging measurements for various ranges\n",
    "def ranging_per_v(start_alt, end_time, vset):\n",
    "    sampling_rate_m = vset/hf_repetition_freq # in meters\n",
    "    range_array = np.arange(start_alt, start_alt + end_time*vset, sampling_rate_m)\n",
    "    \n",
    "    t = np.arange(0, end_time, 1/hf_fs) # time at the sampling frequency\n",
    "    output_signal = np.zeros(len(t), dtype=np.complex_) # stores multiple pulses\n",
    "    \n",
    "    # ONE CHIRP\n",
    "    chirpsig = chirp(hf_s, hf_pulse_length, hf_fs, hf_fc, 0, int((1/hf_repetition_freq)*hf_fs), 0)\n",
    "    \n",
    "    # iterate through chirps (using pulse_number) until total_pulses\n",
    "    total_pulses = int(end_time / (1/hf_repetition_freq)) # total number of pulses\n",
    "    pulse_number = 0\n",
    "    while pulse_number < total_pulses:\n",
    "        # if the chirp is cut off at the end of the time period\n",
    "        if pulse_number * (1/hf_repetition_freq) > end_time:\n",
    "            continue\n",
    "        \n",
    "        # signal spreads out 1/16 pi d^4\n",
    "        Pr = radar_equation(Pt, Gt, range_array[pulse_number], rcs, hf_wavelength)\n",
    "        \n",
    "        start_index = math.ceil(pulse_number * (1/hf_repetition_freq) * hf_fs) # round up to pulse number\n",
    "        \n",
    "        # multiply by pulse indices for chirp function above\n",
    "        output_signal[start_index:start_index+len(chirpsig)] = chirpsig*(np.sqrt(Pr)/np.sqrt(Pt)) \n",
    "        #decrease amplitude by ratio of sqrt(power received)/sqrt(power transmitted)\n",
    "        # in units of AMPLITUDE\n",
    "        \n",
    "        pulse_number += 1 # go on to next pulse\n",
    "\n",
    "    # keep first Pr so that we can convert to power later\n",
    "    first_Pr = radar_equation(Pt, Gt, range_array[0], rcs, hf_wavelength)\n",
    "    return output_signal, total_pulses, first_Pr "
   ]
  },
  {
   "cell_type": "code",
   "execution_count": 6,
   "id": "8ca70cb8",
   "metadata": {},
   "outputs": [
    {
     "name": "stdout",
     "output_type": "stream",
     "text": [
      "Galactic noise (power): 3.5153484038226244e-15 W\n",
      "Pulse count: 1067\n",
      "Uncompressed P_r/N (power): -226.71 dB\n"
     ]
    },
    {
     "name": "stderr",
     "output_type": "stream",
     "text": [
      "/Users/michpark/opt/anaconda3/lib/python3.9/site-packages/numpy/core/_asarray.py:83: ComplexWarning: Casting complex values to real discards the imaginary part\n",
      "  return array(a, dtype, copy=False, order=order)\n"
     ]
    },
    {
     "data": {
      "text/plain": [
       "(50000.00000000001, 50250.00000000001)"
      ]
     },
     "execution_count": 6,
     "metadata": {},
     "output_type": "execute_result"
    },
    {
     "data": {
      "image/png": "[encoded data removed]",
      "text/plain": [
       "<Figure size 500x500 with 1 Axes>"
      ]
     },
     "metadata": {},
     "output_type": "display_data"
    }
   ],
   "source": [
    "# set up range array\n",
    "hf_Ae = (Gt*hf_wavelength**2)/(4*np.pi)\n",
    "N_galactic = 10**-17 # W/mhz/m^2\n",
    "N_power = N_galactic * (hf_bandwidth/1e6) * hf_Ae # W\n",
    "print(\"Galactic noise (power): {} W\".format(N_power))\n",
    "\n",
    "start_alt = 40000*1e3 #m\n",
    "end_time = 2*start_alt/c #s\n",
    "vtrue = 4e3 #m/s\n",
    "  \n",
    "res, pulse_count, Pr = ranging_per_v(start_alt, end_time, vtrue) # assume 4 km/s\n",
    "noise_power = np.random.normal(loc=N_power, size=len(res)) # in units of amplitude (sqrt(W))\n",
    "\n",
    "print(\"Pulse count: {}\".format(pulse_count))\n",
    "\n",
    "print(\"Uncompressed P_r/N (power): {:.2f} dB\".format(10*np.log10(np.max(np.abs(Pr*res**2))/N_power)))\n",
    "\n",
    "# Times for pulse train\n",
    "times = np.linspace(0, end_time, len(res)) \n",
    "# final time = number of pulses * repetition freq\n",
    "\n",
    "# Plot figure\n",
    "fig, ax = plt.subplots(figsize=(5,5))\n",
    "#plt.plot(times/(1e-6), Pr*res**2 + noise_power, c='gray', label='With noise')\n",
    "plt.plot(times/(1e-6), Pr*res**2, c='maroon', label='Without noise')\n",
    "plt.title(\"HF chirp pulse train \\nfrom {:,} to {:,} km\".format(start_alt/1e3, (start_alt + end_time*vtrue)/1e3), fontsize=12)\n",
    "plt.xlabel(r\"Time ($\\mu$ s)\", fontsize=12)\n",
    "plt.ylabel(\"Power (W)\", fontsize = 12)\n",
    "plt.legend()\n",
    "plt.xlim((200*(1/hf_repetition_freq) / 1e-6, 201*(1/hf_repetition_freq) / 1e-6))"
   ]
  },
  {
   "cell_type": "markdown",
   "id": "7363d187",
   "metadata": {},
   "source": [
    "### 3) Pulse compress + estimate the phase correction + SNR\n",
    "For each surface echoes series, implement pulse compression. Use the maxima of each compressed pulse to estimate the slope of the straight line that travels through, which will be the phase correction. \n",
    "Find the final summed, phase-corrected pulse to gather the SNR (power received / noise). \n",
    "\n",
    "\n",
    "Hmmm... should i be finding or guessing the phase correction? wouldnt we always be maxing out the snr each time?"
   ]
  },
  {
   "cell_type": "code",
   "execution_count": 7,
   "id": "29c212ee",
   "metadata": {
    "scrolled": true
   },
   "outputs": [
    {
     "ename": "NameError",
     "evalue": "name 'STOP' is not defined",
     "output_type": "error",
     "traceback": [
      "\u001b[0;31m---------------------------------------------------------------------------\u001b[0m",
      "\u001b[0;31mNameError\u001b[0m                                 Traceback (most recent call last)",
      "\u001b[0;32m/var/folders/6n/3jk8q74x38948bsdc0l81_040000gn/T/ipykernel_6744/1295273638.py\u001b[0m in \u001b[0;36m<module>\u001b[0;34m\u001b[0m\n\u001b[1;32m     82\u001b[0m     \u001b[0;32mreturn\u001b[0m \u001b[0mdguesses\u001b[0m\u001b[0;34m,\u001b[0m \u001b[0mfinal_signal\u001b[0m\u001b[0;34m\u001b[0m\u001b[0;34m\u001b[0m\u001b[0m\n\u001b[1;32m     83\u001b[0m \u001b[0;34m\u001b[0m\u001b[0m\n\u001b[0;32m---> 84\u001b[0;31m \u001b[0mSTOP\u001b[0m\u001b[0;34m\u001b[0m\u001b[0;34m\u001b[0m\u001b[0m\n\u001b[0m",
      "\u001b[0;31mNameError\u001b[0m: name 'STOP' is not defined"
     ]
    }
   ],
   "source": [
    "# input: res array with pulse train (chirps), estimated phase correction\n",
    "# output: SNR\n",
    "from scipy.signal import find_peaks\n",
    "\n",
    "def get_SNR(res, noise, pulse_count, vtrue, vtest, dtrue):\n",
    "    # matched filter is res (no noise), add noise to get the signal\n",
    "    # matched filter == fft(signal)*fft(filter) conjugate\n",
    "    if noise != 0: N = np.random.normal(loc=noise, size=len(res)) # create random Gaussian noise\n",
    "    else: N = np.zeros(len(res), dtype=np.complex_) # else, no noise\n",
    "    \n",
    "    # apply matched filter to the noisy signal\n",
    "    corr = np.fft.fftshift(np.fft.ifft(np.fft.fft(res + N)*np.conj(np.fft.fft(res))))\n",
    "    \n",
    "    # find the peaks for each compressed pulse, separated by repetition frequency indexes\n",
    "    peaks, _ = find_peaks(corr, distance=(1/hf_repetition_freq)*hf_fs)\n",
    "\n",
    "    final_signal = np.zeros(int((1/hf_repetition_freq)*hf_fs), dtype=np.complex_)\n",
    "    \n",
    "    # create array of distance guesses based on pulse size\n",
    "    time_halfwidth = ((1/hf_repetition_freq))/2\n",
    "    distance_halfwidth = time_halfwidth*c # corresponds to which \"dx\" in range guesses\n",
    "    dguesses = np.linspace(dtrue - distance_halfwidth, dtrue + distance_halfwidth, len(final_signal))\n",
    "    # ARRAY OF RANGE GUESSES\n",
    "    \n",
    "    # FOR GUESSED VELOCITY \n",
    "    # Apply phase correction (for each pulse number), from dif between true + guess velocity\n",
    "    vshift = vtest - vtrue \n",
    "    \n",
    "    # ID the indices labelling the starts + ends of each pulse \n",
    "    starts = peaks-int((1/hf_repetition_freq)*hf_fs*0.5)\n",
    "    ends = peaks+int((1/hf_repetition_freq)*hf_fs*0.5)\n",
    "    \n",
    "    phase_corrections = np.array([]) # stores phase corrections for each pulse number\n",
    "    \n",
    "    # Create a mask for valid indices -- removes if pulse is truncated\n",
    "    valid_mask = (starts >= 0) & ((ends - starts) == len(final_signal)) & (ends <= len(corr))\n",
    "    starts = starts[valid_mask] # apply filter to starts\n",
    "\n",
    "    # Calculate phase shifts\n",
    "    multiplier = np.arange(0, len(starts), 1)\n",
    "    index_per_pulse = int((1/hf_repetition_freq)*hf_fs)\n",
    "\n",
    "    # determines how many indices we should shift over\n",
    "    t = (multiplier * (1/hf_fs))/(1/hf_repetition_freq) # fraction of time \n",
    "    phaseshift = ((((2*np.pi*np.abs(vshift)*t/hf_wavelength) % (2*np.pi)) / (2*np.pi))) * len(final_signal)\n",
    "    phase_corrections = phaseshift.astype(int) # convert to ints\n",
    "\n",
    "    # Extract the pulse data (filtered!)\n",
    "    #all_indices = np.transpose(np.array([starts, ends]))\n",
    "    all_pulses = np.array([],dtype=np.complex_)\n",
    "    all_pulses = np.vstack([corr[start:start + len(final_signal)] for start in starts])\n",
    "\n",
    "    ## PHASE SHIFTS!!! ##\n",
    "    for i, shift in enumerate(phase_corrections):\n",
    "        if vshift < 0: # moving further out from europa\n",
    "            # pad with zeroes to the LEFT as we shift RIGHT \n",
    "            # place to the right\n",
    "            final_signal[np.abs(shift):] += all_pulses[i][:len(final_signal)-np.abs(shift)]\n",
    "        else: # moving closer to europa\n",
    "            # move pulse back, pad with zeroes on right as we shift LEFT\n",
    "            # place to the LEFT\n",
    "            final_signal[0:len(all_pulses[i][shift:])] += all_pulses[i][shift:]\n",
    "            \n",
    "    # FINAL SUMMED PULSE\n",
    "\n",
    "    #### PLOT THE PHASE SHIFTED PULSE?\n",
    "    '''\n",
    "    pulse_times = np.arange(0, (1/hf_repetition_freq), 1/hf_fs)\n",
    "    if vtest == 4e3:\n",
    "        plt.plot(pulse_times/(1e-6), np.real(final_signal), label=(vtest)/1e3, color='black', zorder=1)\n",
    "    else:\n",
    "        plt.plot(pulse_times/(1e-6), np.real(final_signal), label=(vtest)/1e3, alpha=0.8, zorder=10)\n",
    "    \n",
    "    plt.xlabel(\"Times (microseconds)\", fontsize=12)\n",
    "    plt.ylabel(\"Amplitude\", fontsize=12)\n",
    "    #plt.title(r'Final Summed Pulse: $v_{{\\rm{{guess}}}}$ = {0} km/s'.format(vtest/1e3), fontsize=12)\n",
    "    #plt.title(r'Final Summed Pulse - Many Velocity Guesses', fontsize=12)\n",
    "    plt.legend(title=\"Guessed velocity (km/s)\")\n",
    "    '''\n",
    "    # Instead of sweeping many amplitudes, we can just return the final signal\n",
    "    # which represents dguess vs. amplitude \n",
    "    return dguesses, final_signal\n",
    "\n",
    "STOP"
   ]
  },
  {
   "cell_type": "code",
   "execution_count": null,
   "id": "63bd34ce",
   "metadata": {},
   "outputs": [],
   "source": [
    "dtrue = 40000e3\n",
    "vtrue = 4000\n",
    "vguess = 3.9e3\n",
    "end_time = 1 #s\n",
    "\n",
    "res, pulse_count, Pr = ranging_per_v(start_alt, end_time, vtrue) # assume 4 km/s\n",
    "print(\"Pulse count: \" + str(pulse_count))\n",
    "\n",
    "dguesses, sig = get_SNR(res*np.sqrt(Pr), 0, pulse_count, vtrue, vguess, dtrue)\n",
    "# units of Sqrt(W) -- amplitude\n",
    "\n",
    "'''\n",
    "fig, ax = plt.subplots(figsize=(5,5))\n",
    "plt.plot(times/(1e-6), np.real(res), c='maroon')\n",
    "plt.scatter(times[peaks]/(1e-6), np.zeros(len(peaks)), zorder=100)\n",
    "plt.title(\"HF chirp pulse train \\nfrom {:,} to {:,} km\".format(start_alt/1e3, (start_alt + end_time*vset)/1e3), fontsize=12)\n",
    "plt.xlabel(r\"Time ($\\mu$ s)\", fontsize=12)\n",
    "plt.ylabel(\"Amplitude\", fontsize = 12)\n",
    "'''\n",
    "\n",
    "# plot signal along with range guesses\n",
    "fig, ax = plt.subplots(figsize=(5,5))\n",
    "plt.plot(dguesses/1e3, np.abs(sig)**2/N_power, c='black', label='Received signal', alpha=1)\n",
    "plt.xlabel(r\"Guessed distances (km)\", fontsize=12)\n",
    "plt.ylabel(\"SNR\", fontsize = 12)\n",
    "plt.title(\"Summed time-delayed pulse for {:,} km\".format(dtrue/1e3))\n",
    "\n",
    "plt.axvline(dtrue/1e3, color='red', lw=1, ls='--', label='True range')\n",
    "ax.locator_params(axis='x', nbins=5)\n",
    "#plt.ylim((0, 0.000025))\n",
    "plt.legend()"
   ]
  },
  {
   "cell_type": "markdown",
   "id": "8635b43e",
   "metadata": {},
   "source": [
    "#### For one range, we get SNR per velocity:"
   ]
  },
  {
   "cell_type": "code",
   "execution_count": null,
   "id": "4b19d2d2",
   "metadata": {},
   "outputs": [],
   "source": [
    "SNR_array = np.array([])\n",
    "res, pulse_count, Pr = ranging_per_v(start_alt, end_time, 4e3) # assume 4 km/s\n",
    "\n",
    "vcount = 0\n",
    "for v in np.linspace(3.5e3, 4.5e3, 100):\n",
    "    if vcount % 100 == 0: print(vcount)\n",
    "        \n",
    "    _, shifted_signal  = get_SNR(res*np.sqrt(Pr), np.sqrt(N_power), pulse_count, 4e3, v, 40000e3) # true alt=40000\n",
    "    SNR = 10*np.log10((np.abs(shifted_signal)**2)/N_power) # in units of power\n",
    "    SNR_array = np.append(SNR_array, SNR)\n",
    "    vcount += 1"
   ]
  },
  {
   "cell_type": "code",
   "execution_count": null,
   "id": "85e2b0b9",
   "metadata": {},
   "outputs": [],
   "source": [
    "fig, ax = plt.subplots(1, 1, figsize=(5, 4))\n",
    "plt.plot(np.linspace(3.5e3, 4.5e3, 100)/1000, SNR_array, color='black', lw=2)\n",
    "ax.fill_between(np.linspace(3.5e3, 4.5e3, 100)/1000, 0, SNR_array, color='black', alpha=.2)\n",
    "plt.xlabel(\"Guessed Velocity (km/s)\", fontsize=12)\n",
    "plt.ylabel(\"SNR (dB)\", fontsize=12)\n",
    "plt.ylim(bottom = np.min(SNR_array)-2)\n",
    "plt.xlim(3.5, 4.5)\n",
    "\n",
    "ax.locator_params(axis='x', nbins=10)\n",
    "ax.locator_params(axis='y', nbins=10)\n",
    "ax.grid('on')\n",
    "plt.tight_layout()"
   ]
  },
  {
   "cell_type": "markdown",
   "id": "d99ef9df",
   "metadata": {},
   "source": [
    "## Being a control freak for plots!"
   ]
  },
  {
   "cell_type": "code",
   "execution_count": 41,
   "id": "df2fccbe",
   "metadata": {},
   "outputs": [],
   "source": [
    "plt.rc('font', size=11)          # controls default text sizes\n",
    "plt.rc('axes', titlesize=14)     # fontsize of the axes title\n",
    "plt.rc('axes', labelsize=12)    # fontsize of the x and y labels\n",
    "plt.rc('xtick', labelsize=10)    # fontsize of the tick labels\n",
    "plt.rc('ytick', labelsize=10)    # fontsize of the tick labels\n",
    "plt.rc('legend', fontsize=12)    # legend fontsize\n",
    "plt.rc('figure', titlesize=12)  # fontsize of the figure title"
   ]
  },
  {
   "cell_type": "markdown",
   "id": "92e5762a",
   "metadata": {},
   "source": [
    "### 4) Nested for loop -- many ranges + many velocities\n",
    "Create a nested for loop implementing each above. Gather the true + recovered ranges, true + recovered velocities (convert phase correction -> velocity), SNR in a 5-value array. "
   ]
  },
  {
   "cell_type": "code",
   "execution_count": 59,
   "id": "36a56cfc",
   "metadata": {},
   "outputs": [
    {
     "name": "stdout",
     "output_type": "stream",
     "text": [
      "Pulse count: 4000\n"
     ]
    },
    {
     "name": "stderr",
     "output_type": "stream",
     "text": [
      "100%|█████████████████████████████████████████| 200/200 [00:38<00:00,  5.23it/s]\n"
     ]
    },
    {
     "data": {
      "text/plain": [
       "<Figure size 640x480 with 0 Axes>"
      ]
     },
     "metadata": {},
     "output_type": "display_data"
    }
   ],
   "source": [
    "velocity_guesses = np.linspace(3.999e3, 4.001e3, 200) # m/s\n",
    "\n",
    "dtrue = 40000e3\n",
    "vtrue = 4000 # m/s -- the actual velocity\n",
    "\n",
    "#end_time = 2*dtrue/c #s -- 40 PULSES\n",
    "end_time = 1 # s\n",
    "\n",
    "# set up range array\n",
    "hf_Ae = (Gt*hf_wavelength**2)/(4*np.pi)\n",
    "N_galactic = 10**-17 # W/mhz/m^2\n",
    "N_power = N_galactic * (hf_bandwidth/1e6) * hf_Ae # W\n",
    "\n",
    "final = np.zeros((600, len(velocity_guesses))) # 1200 hardcoded ig\n",
    "\n",
    "sampling_rate_m = vtrue/hf_repetition_freq\n",
    "res, pulse_count, Pr = ranging_per_v(dtrue, end_time, vtrue) # with true values\n",
    "print(\"Pulse count: \" + str(pulse_count))\n",
    "    \n",
    "plt.figure()\n",
    "for idv, v in enumerate(tqdm(velocity_guesses)):\n",
    "    #noise = np.random.normal(loc=np.sqrt(N_power), size=len(res)) # in units of amplitude (sqrt(W))\n",
    "    distance_guesses, snr_guesses = get_SNR(res*np.sqrt(Pr), 0, pulse_count, vtrue, v, dtrue)\n",
    "    SNR = 10*np.log10((np.abs(snr_guesses)**2)/N_power + (10**-100))\n",
    "    final[:,idv] = SNR\n"
   ]
  },
  {
   "cell_type": "code",
   "execution_count": 83,
   "id": "efd45b11",
   "metadata": {},
   "outputs": [
    {
     "name": "stdout",
     "output_type": "stream",
     "text": [
      "Recovered range: 40000.062563 km\n",
      "Recovered velocity: 3.999995 km/s\n",
      "3.9999748743718593\n",
      "39999.93743739566\n"
     ]
    },
    {
     "data": {
      "image/png": "[encoded data removed]",
      "text/plain": [
       "<Figure size 800x600 with 2 Axes>"
      ]
     },
     "metadata": {},
     "output_type": "display_data"
    }
   ],
   "source": [
    "from matplotlib.ticker import FormatStrFormatter\n",
    "#plt.style.use('/Users/michpark/Sync/Documents/JPL-EUROPA/sample.mplstyle')\n",
    "fig, ax = plt.subplots(figsize=(8, 6))\n",
    "heatmap = ax.imshow(final, cmap='viridis', origin=\"lower\",aspect='auto', vmin = -420, \n",
    "              vmax = np.max(final), extent =[np.min(velocity_guesses/1e3), \n",
    "                                     np.max(velocity_guesses/1e3), np.min(distance_guesses/1e3), \n",
    "                                     np.max(distance_guesses/1e3)])\n",
    "\n",
    "# Add colorbar\n",
    "cbar = plt.colorbar(heatmap)\n",
    "cbar.set_label('SNR (dB)', rotation=270, labelpad=15)\n",
    "\n",
    "# Customize the plot\n",
    "ax.set_ylabel('Ranges (km)')\n",
    "ax.set_xlabel('Velocities (km/s)')\n",
    "ax.set_title('Phase Shift Approach: {} pulses, no noise'.format(pulse_count))\n",
    "\n",
    "recovered_indices = np.unravel_index(final.argmax(), final.shape)\n",
    "print(\"Recovered range: {:.6f} km\".format(distance_guesses[recovered_indices[0]]/1e3))\n",
    "print(\"Recovered velocity: {:.6f} km/s\".format(velocity_guesses[recovered_indices[1]]/1e3))\n",
    "\n",
    "ax.locator_params(axis='x', nbins=3)\n",
    "plt.ticklabel_format(style='plain')\n",
    "plt.minorticks_on()\n",
    "plt.gca().xaxis.set_major_formatter(FormatStrFormatter('%.4f'))\n",
    "plt.gca().yaxis.set_major_formatter(FormatStrFormatter('%.0f'))\n",
    "ax.locator_params(axis='y', nbins=3)\n",
    "\n",
    "# DRAW CONTOUR\n",
    "threshold = np.percentile(final, 99.99)  # Top 1% as the brightest\n",
    "brightest_region = final >= threshold\n",
    "labeled_array, num_features = label(brightest_region)\n",
    "regions = find_objects(labeled_array)\n",
    "largest_region = max(regions, key=lambda r: (r[0].stop - r[0].start) * (r[1].stop - r[1].start))\n",
    "\n",
    "# Get the coordinates for the rectangle\n",
    "y_start, y_stop = distance_guesses[largest_region[0].start]/1e3, distance_guesses[largest_region[0].stop]/1e3\n",
    "x_start, x_stop = velocity_guesses[largest_region[1].start]/1e3, velocity_guesses[largest_region[1].stop]/1e3\n",
    "\n",
    "print(x_start)\n",
    "print(y_start)\n",
    "\n",
    "# Draw the rectangle\n",
    "rect = plt.Rectangle((x_start, y_start), x_stop - x_start, y_stop - y_start, \n",
    "                     edgecolor='white', facecolor='none', linewidth=2, ls='--')\n",
    "ax.add_patch(rect)\n",
    "\n",
    "# add the brightest range/velocity\n",
    "#ax.text(x=0.05, y=0.93, s=r'Recovered range: {:.6f} km'.format(distance_guesses[recovered_indices[0]]/1e3), transform=ax.transAxes, color='white')\n",
    "#ax.text(x=0.05, y=0.89, s=r'Recovered velocity: {:.6f} km/s'.format(velocity_guesses[recovered_indices[1]]/1e3), transform=ax.transAxes, color='white')\n",
    "\n",
    "plt.xlim((3.9999, 4.0001))\n",
    "plt.ylim((39999, 40001))\n",
    "\n",
    "plt.show()"
   ]
  },
  {
   "cell_type": "code",
   "execution_count": null,
   "id": "e27c17e2",
   "metadata": {},
   "outputs": [],
   "source": []
  },
  {
   "cell_type": "markdown",
   "id": "dc256abf",
   "metadata": {},
   "source": [
    "### 5) Plot true vs. recovered range + true vs. recovered velocity \n",
    "Create true vs. recovered plots, colorcoded by SNR first to visualize general patterns. "
   ]
  },
  {
   "cell_type": "code",
   "execution_count": null,
   "id": "1a375fe9",
   "metadata": {},
   "outputs": [],
   "source": [
    "'''\n",
    "fig, ax = plt.subplots(1, 2, figsize=(8, 4))\n",
    "dmaxidx = np.argwhere(final_less==np.amax(final_less, axis=0, keepdims=True))\n",
    "recovered_ranges = distance_guesses[dmaxidx[:,0]]/1e3\n",
    "\n",
    "vmaxidx = np.argwhere(final_less==np.amax(final_less, axis=1, keepdims=True))\n",
    "recovered_velocities = velocity_guesses[vmaxidx[:,1]]/1e3\n",
    "\n",
    "binsd = np.linspace(np.min(recovered_ranges), np.max(recovered_ranges), 8)\n",
    "binsv = np.linspace(np.min(recovered_velocities), np.max(recovered_velocities), 8)\n",
    "ax[0].hist(recovered_ranges, color='#107394', bins=binsd)\n",
    "ax[0].axvline(dtrue/1e3, ls='--', color='black')\n",
    "ax[1].hist(recovered_velocities, color='#7b0829', bins=binsv)\n",
    "ax[1].axvline(vtrue/1e3, ls='--', color='black')\n",
    "\n",
    "ax[0].set_xlabel(\"Recovered ranges (km)\", fontsize=10)\n",
    "ax[0].set_ylabel(\"Frequency\", fontsize=10)\n",
    "ax[1].set_xlabel(\"Recovered velocities (km/s)\", fontsize=10)\n",
    "ax[1].set_ylabel(\"Frequency\", fontsize=10)\n",
    "ax[0].set_xlim(np.min(distance_guesses)/1e3 - 5, np.max(distance_guesses)/1e3 + 5)\n",
    "ax[1].set_xlim(np.min(velocity_guesses)/1e3 - 0.1, np.max(velocity_guesses)/1e3 + 0.1)\n",
    "\n",
    "\n",
    "# CALCULATE BIAS AND SCATTER\n",
    "print(recovered_ranges)\n",
    "range_bias = np.median(recovered_ranges - np.full(len(recovered_ranges), dtrue/1e3))\n",
    "range_scatter = np.std(np.abs(recovered_ranges - np.full(len(recovered_ranges), dtrue/1e3)))\n",
    "velocity_bias = np.median(recovered_velocities - np.full(len(recovered_velocities), vtrue/1e3))\n",
    "velocity_scatter = np.std(np.abs(recovered_velocities - np.full(len(recovered_velocities), vtrue/1e3)))                    \n",
    "                       \n",
    "ax[0].text(x=0.05, y=0.93, s=r'$\\mu$ = {:.2f} km'.format(range_bias), transform=ax[0].transAxes, color='#107394')\n",
    "ax[0].text(x=0.05, y=0.87, s=r'$\\sigma$ = {:.3f}'.format(range_scatter), transform=ax[0].transAxes, color='#107394')\n",
    "ax[1].text(x=0.05, y=0.93, s=r'$\\mu$ = {:.2f} km/s'.format(velocity_bias), transform=ax[1].transAxes, color='#7b0829')\n",
    "ax[1].text(x=0.05, y=0.87, s=r'$\\sigma$ = {:.3f}'.format(velocity_scatter), transform=ax[1].transAxes, color='#7b0829')\n",
    "         \n",
    "plt.tight_layout()\n",
    "'''"
   ]
  },
  {
   "cell_type": "markdown",
   "id": "1677ff05",
   "metadata": {},
   "source": [
    "### 6) Monte Carlo type plot \n",
    "(1) Find the brightest SNR point on heatmap -> (2) Rerun new heatmap and get its brightest SNR point -> (3) repeat.\n",
    "We can see how the brightest SNR point deviates for multiple runs of the heatmap (standard deviation of the movement) to see extent of noise's influence"
   ]
  },
  {
   "cell_type": "code",
   "execution_count": null,
   "id": "1b6b4cb8",
   "metadata": {},
   "outputs": [],
   "source": [
    "# store brightest SNR points\n",
    "all_ranges = np.array([]) # in m\n",
    "all_velocities = np.array([]) # in m/s\n",
    "\n",
    "# set up params\n",
    "dtrue = 40000e3\n",
    "vtrue = 4000 # m/s -- the actual velocity\n",
    "dx = (1/3)*c*(1/hf_repetition_freq)/2 \n",
    "hf_Ae = (Gt*hf_wavelength**2)/(4*np.pi)\n",
    "N_galactic = 10**-17 # W/mhz/m^2\n",
    "N_power = N_galactic * (hf_bandwidth/1e6) * hf_Ae # W\n",
    "\n",
    "n = 1\n",
    "while n < 1001:\n",
    "    velocity_guesses = np.linspace(3.7e3, 4.3e3, 100) # m/s\n",
    "    \n",
    "    end_time = 0.25 # s\n",
    "\n",
    "    # set up range array\n",
    "    distance_guesses = np.linspace(dtrue-dx, dtrue+dx, 10)[1:] #m\n",
    "\n",
    "    final = np.zeros((len(distance_guesses), len(velocity_guesses)))\n",
    "\n",
    "    sampling_rate_m = vtrue/hf_repetition_freq\n",
    "    res, pulse_count, Pr = ranging_per_v(dtrue, end_time, sampling_rate_m, vtrue) # with true values\n",
    "\n",
    "    for idd, d in enumerate(distance_guesses):\n",
    "        # get ranging measurements (pulse train)\n",
    "        for idv, v in enumerate(velocity_guesses):\n",
    "            noise = np.random.normal(loc=np.sqrt(N_power), size=len(res)) # in units of amplitude (sqrt(W))\n",
    "            peak_sum, _, _ = get_SNR(res*np.sqrt(Pr), np.sqrt(N_power), pulse_count, vtrue, v, dtrue, d)\n",
    "            SNR = 10*np.log10((np.abs(peak_sum)**2)/N_power + (10**-25))\n",
    "            final[idd, idv] = SNR\n",
    "\n",
    "    recovered_indices = np.unravel_index(final.argmax(), final.shape)\n",
    "\n",
    "    print(\"-- Iteration {} --\".format(n))\n",
    "    print(\"Recovered range: {:.4f} km\".format(distance_guesses[recovered_indices[0]]/1e3))\n",
    "    print(\"Recovered velocity: {:.4f} km/s\".format(velocity_guesses[recovered_indices[1]]/1e3))\n",
    "\n",
    "    all_ranges = np.append(all_ranges, distance_guesses[recovered_indices[0]]/1e3)\n",
    "    all_velocities = np.append(all_velocities, velocity_guesses[recovered_indices[1]]/1e3)\n",
    "    n += 1\n"
   ]
  },
  {
   "cell_type": "code",
   "execution_count": null,
   "id": "c61d8ef9",
   "metadata": {},
   "outputs": [],
   "source": [
    "np.savetxt(\"iterative_heatmaps/allranges-1000p-571x.txt\", all_ranges)\n",
    "np.savetxt(\"iterative_heatmaps/allvelocities-1000p-571x.txt\", all_velocities)"
   ]
  },
  {
   "cell_type": "code",
   "execution_count": null,
   "id": "ac739171",
   "metadata": {},
   "outputs": [],
   "source": [
    "import math\n",
    "import scipy.stats as stats\n",
    "\n",
    "#all_ranges = np.loadtxt(\"iterative_heatmaps/allranges-40p-100x.txt\")\n",
    "#all_velocities = np.loadtxt(\"iterative_heatmaps/allvelocities-40p-100x.txt\")\n",
    "\n",
    "print(all_ranges)\n",
    "n = len(all_ranges)\n",
    "\n",
    "fig, ax = plt.subplots(1, 2, figsize=(8, 4))\n",
    "N_bins = math.ceil(np.sqrt(n)) # general policy -- number of bins = round up sqrt(number of data)\n",
    "\n",
    "# BUILD THE HISTOGRAMS\n",
    "binsd = np.linspace(np.min(all_ranges), np.max(all_ranges), int(N_bins/2.5))\n",
    "binsv = np.linspace(np.min(all_velocities), np.max(all_velocities), int(N_bins/2.7))\n",
    "_, xrange, _ = ax[0].hist(all_ranges, color='#107394', bins=binsd, edgecolor='black', linewidth=1.2)\n",
    "ax[0].axvline(dtrue/1e3, ls='--', color='black')\n",
    "_, xvel, _ = ax[1].hist(all_velocities, color='#7b0829', bins=binsv, edgecolor='black', linewidth=1.2)\n",
    "ax[1].axvline(vtrue/1e3, ls='--', color='black')\n",
    "\n",
    "# PRETTIFY THE AXES\n",
    "ax[0].set_xlabel(\"Recovered ranges (km)\", fontsize=12)\n",
    "ax[0].set_ylabel(\"Frequency\", fontsize=12)\n",
    "ax[1].set_xlabel(\"Recovered velocities (km/s)\", fontsize=12)\n",
    "ax[1].set_ylabel(\"Frequency\", fontsize=12)\n",
    "ax[0].set_xlim(np.min(distance_guesses)/1e3 - 5, np.max(distance_guesses)/1e3 + 5)\n",
    "ax[1].set_xlim(np.min(all_velocities) - 0.01, np.max(all_velocities) + 0.01)\n",
    "#ax[0].set_ylim(top=45)\n",
    "ax[1].set_ylim(top=240)\n",
    "fig.suptitle(\"Brightest SNR Points on Iterative Heatmaps\", fontsize=14)\n",
    "\n",
    "# CALCULATE BIAS AND SCATTER\n",
    "range_bias = np.median(all_ranges - np.full(len(all_ranges), dtrue/1e3))\n",
    "range_scatter = np.std(np.abs(all_ranges - np.full(len(all_ranges), dtrue/1e3)))\n",
    "velocity_bias = np.median(all_velocities - np.full(len(all_velocities), vtrue/1e3))\n",
    "velocity_scatter = np.std(np.abs(all_velocities - np.full(len(all_velocities), vtrue/1e3)))                    \n",
    "                       \n",
    "ax[0].text(x=0.05, y=0.93, s=r'$\\mu$ = {:.3f} km'.format(range_bias), transform=ax[0].transAxes, color='#107394', fontsize=10)\n",
    "ax[0].text(x=0.05, y=0.87, s=r'$\\sigma$ = {:.3f}'.format(range_scatter), transform=ax[0].transAxes, color='#107394', fontsize=10)\n",
    "ax[1].text(x=0.55, y=0.93, s=r'$\\mu$ = {:.2e} km/s'.format(velocity_bias), transform=ax[1].transAxes, color='#7b0829', fontsize=10)\n",
    "ax[1].text(x=0.55, y=0.87, s=r'$\\sigma$ = {:.2e}'.format(velocity_scatter), transform=ax[1].transAxes, color='#7b0829', fontsize=10)\n",
    "         \n",
    "for axes in ax.reshape(-1):\n",
    "    axes.locator_params(axis='x', nbins=7)\n",
    "    axes.locator_params(axis='y', nbins=5)\n",
    "plt.tight_layout()\n"
   ]
  }
 ],
 "metadata": {
  "kernelspec": {
   "display_name": "Python [conda env:root]",
   "language": "python",
   "name": "conda-root-py"
  },
  "language_info": {
   "codemirror_mode": {
    "name": "ipython",
    "version": 3
   },
   "file_extension": ".py",
   "mimetype": "text/x-python",
   "name": "python",
   "nbconvert_exporter": "python",
   "pygments_lexer": "ipython3",
   "version": "3.9.13"
  }
 },
 "nbformat": 4,
 "nbformat_minor": 5
}
