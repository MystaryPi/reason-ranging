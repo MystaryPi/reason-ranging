{
 "cells": [
  {
   "cell_type": "markdown",
   "id": "055185e2",
   "metadata": {},
   "source": [
    "# Long Distance Ranging of Europa by REASON\n",
    "### Michelle Park\n",
    "Follows the Overleaf document -- goal is to constrain the distance and Doppler ranging measurements of Europa Clipper by REASON. From what range can we detect a returned signal from Europa? Must also account for assumptions in surface roughness / radar cross section that we can play with below."
   ]
  },
  {
   "cell_type": "code",
   "execution_count": 1,
   "id": "f1a20cb6",
   "metadata": {},
   "outputs": [],
   "source": [
    "import numpy as np\n",
    "import matplotlib.pyplot as plt\n",
    "from IPython.display import display, Math\n",
    "import scienceplots"
   ]
  },
  {
   "cell_type": "markdown",
   "id": "ee81fc27",
   "metadata": {},
   "source": [
    "## Link Budget\n",
    "Using the radar link budget equation, the power received is:\n",
    "\\begin{equation}\n",
    "    P_r = \\frac{P_tG_t}{4\\pi d^2}\\frac{\\sigma A_e}{4\\pi d^2}\\,,\n",
    "\\end{equation}\n",
    "with $A_e$ being the effective area of the antenna and $d$ being the distance of Clipper from Europa's surface.\n",
    "\n",
    "With G = 6dB, $A_e=G\\lambda^2 / 4\\pi \\approx 8$ m$^2$ for the VHF and $A_e\\approx352 $m$^2$ for the HF."
   ]
  },
  {
   "cell_type": "code",
   "execution_count": 2,
   "id": "85a6dadb",
   "metadata": {},
   "outputs": [],
   "source": [
    "def radar_equation(Pt, Gt, d, rcs, wavelength):\n",
    "    # From the gain, determine the effective area of REASON\n",
    "    Ae = (Gt*wavelength**2)/(4*np.pi)\n",
    "    \n",
    "    return ((Pt*Gt)/(4*np.pi*d**4))*((rcs*Ae)/(4*np.pi)) # return power received"
   ]
  },
  {
   "cell_type": "markdown",
   "id": "2cce384b",
   "metadata": {},
   "source": [
    "Radar cross section of Europa (R=1560 km) is\n",
    "\\begin{equation}\n",
    "\\sigma = \\pi R^2\\left\\lvert\\frac{n_1-n_2}{n_1+n_2}\\right\\rvert^2 = 2.8\\times10^{10}\\,,\n",
    "\\end{equation}\n",
    "using $n_1=1$ and $n_2=1.13$ for ice."
   ]
  },
  {
   "cell_type": "code",
   "execution_count": 3,
   "id": "176c0452",
   "metadata": {},
   "outputs": [
    {
     "name": "stdout",
     "output_type": "stream",
     "text": [
      "RCS: 2.847912e+10\n"
     ]
    }
   ],
   "source": [
    "# Radar cross section of Europa\n",
    "R = 1560e3 #m\n",
    "n1 = 1\n",
    "n2 = 1.13 # ice\n",
    "rcs_split = np.pi*R**2*np.abs((n1-n2)/(n1+n2))**2 \n",
    "print(\"RCS: {:e}\".format(rcs_split))"
   ]
  },
  {
   "cell_type": "markdown",
   "id": "da70672c",
   "metadata": {},
   "source": [
    "We can compare our result to the *radar potential* first, which assumes d = 400 km and that Europa is a perfectly conducting sphere (use $\\pi R^2$ as the RCS).\n",
    "\n",
    "We'll need to use $d^3$ in the denominator instead of $d^4$ since 400 km is close to Europa. Refer to \"Geometric Power Fall-Off in Radar Sounding\" by Haynes + Schroeder."
   ]
  },
  {
   "cell_type": "code",
   "execution_count": 4,
   "id": "1242f453",
   "metadata": {},
   "outputs": [
    {
     "name": "stdout",
     "output_type": "stream",
     "text": [
      "Radar potential (HF): 8.76 dB\n",
      "Radar potential (VHF): -7.72 dB\n"
     ]
    }
   ],
   "source": [
    "# radar equation with smooth rcs\n",
    "smooth_rcs = np.pi*R**2 # power in = power out\n",
    "\n",
    "# radar potential ~ 63 dB VHF & ~65 dB HF\n",
    "Pr_smooth_hf = radar_equation(10, 10**(6/10), 400000, smooth_rcs, (2.998e8)/(9e6)) # for HF\n",
    "SNR_smooth_hf = 10*np.log10(Pr_smooth_hf/(3.52*10**-9))# divide by the N_galactic power\n",
    "\n",
    "Pr_smooth_vhf = radar_equation(10, 10**(6/10), 400000, smooth_rcs, (2.998e8)/(60e6)) # for VHF\n",
    "SNR_smooth_vhf = 10*np.log10(Pr_smooth_vhf/(3.52*10**-9))\n",
    "print(\"Radar potential (HF): {:.2f} dB\".format(SNR_smooth_hf))\n",
    "print(\"Radar potential (VHF): {:.2f} dB\".format(SNR_smooth_vhf))"
   ]
  },
  {
   "cell_type": "markdown",
   "id": "482876ad",
   "metadata": {},
   "source": [
    "ALTERNATIVELY, we can use the mean roughness of different regions of Europa, linked [here](https://www.sciencedirect.com/science/article/abs/pii/S0019103519301526). \n",
    "90% of Europa's surface are:\n",
    "- Ridged plains ($\\sigma_0 = 0.58 m$, $H = 0.65$ for $\\lambda < 1 km$, $H = 0.28$ for $\\lambda > 1 km$) \n",
    "- Chaos (matrix, plains) ($\\sigma_0 = 1.31 m$, $H = 0.69$ for $\\lambda < 1 km$, $H = 0.36$ for $\\lambda > 1 km$)\n",
    "\n",
    "The remainder are:\n",
    "- Craters ($\\sigma_0 = 0.60 m$, $H = 0.69$ for $\\lambda < 1 km$, $H = 0.52$ for $\\lambda > 1 km$) \n",
    "- Double ridges / bands ($\\sigma_0 = 0.66 m$, $H = 0.43$ for $\\lambda < 1 km$, $H = 0.24$ for $\\lambda > 1 km$).\n",
    "\n",
    "We describe the roughness per wavelength: $S/\\lambda = \\sigma_0 \\lambda^H$. For both VHF and HF, the wavelength is less than 1 km for the Hurst exponent. \n",
    "\n",
    "Using the plot in figure 4 of Peters et al. (linked [here](https://agupubs.onlinelibrary.wiley.com/doi/epdf/10.1029/2004JB003222)), we can determine the roughness surface loss from roughness per wavelength. \n",
    "\n",
    "We calculate the RMS phase variation $g = 4 \\pi S/\\lambda$ to find the reflection reduction $\\rho = \\exp(-g^2)I_0^2(g^2/2)$ for $I_0$ being the zero-order modified Bessel function.\n",
    "\n",
    "To find the radar cross section of Europa, we multiply the RCS of a perfect electric conductor sphere $\\times$ Fresnel coefficient of ice $\\times$ roughness surface loss from the surface characteristics above."
   ]
  },
  {
   "cell_type": "code",
   "execution_count": 5,
   "id": "385296cf",
   "metadata": {},
   "outputs": [],
   "source": [
    "# find the average roughness surface loss\n",
    "def roughness_surface_loss(wavelength):\n",
    "    # roughness per wavelength for the 90% majority (ridged plains, chaos)\n",
    "    majority_roughness = 0.58*wavelength**0.65 + 1.31*wavelength**0.69\n",
    "    # roughness per wavelength for the remaining surface characteristics (craters, double ridges/bands)\n",
    "    minority_roughness= 0.60*wavelength**0.69 + 0.66*wavelength**0.43\n",
    "    \n",
    "    # average roughness/wavelength of entire surface\n",
    "    ave_roughness = (0.9*majority_roughness + 0.1*minority_roughness)/4\n",
    "\n",
    "    # determine roughness surface loss from Peters et al. \n",
    "    g = 4*np.pi*ave_roughness/wavelength # rms phase variation\n",
    "    rho = np.exp(-g**2)*(np.i0(g**2/2)**2)\n",
    "    \n",
    "    return 1-rho # in non-dB units"
   ]
  },
  {
   "cell_type": "code",
   "execution_count": 6,
   "id": "882fdeb2",
   "metadata": {},
   "outputs": [
    {
     "name": "stdout",
     "output_type": "stream",
     "text": [
      "RCS for VHF: 2.764642e+10\n",
      "RCS for HF: 2.507809e+10\n"
     ]
    }
   ],
   "source": [
    "c = 2.998e8 # m/s\n",
    "vhf_wavelength = c/(60e6) # m\n",
    "hf_wavelength = c/(9e6) # m\n",
    "\n",
    "rcs_vhf = rcs_split*roughness_surface_loss(vhf_wavelength)\n",
    "rcs_hf = rcs_split*roughness_surface_loss(hf_wavelength)\n",
    "print(\"RCS for VHF: {:e}\".format(rcs_vhf))\n",
    "print(\"RCS for HF: {:e}\".format(rcs_hf))"
   ]
  },
  {
   "cell_type": "markdown",
   "id": "1adc7b7d",
   "metadata": {},
   "source": [
    "From smoothest to roughest: band/double ridge, ridged plains, craters, chaos terrain. We can compare with the RCS for pointing to the leading hemisphere of Europa, which is dominated by ridged plains."
   ]
  },
  {
   "cell_type": "code",
   "execution_count": 7,
   "id": "36303c6b",
   "metadata": {},
   "outputs": [],
   "source": [
    "def ridged_plains_roughness_surface_loss(wavelength):\n",
    "    # roughness per wavelength for ridged plains\n",
    "    ave_roughness = 0.58*wavelength**0.65 \n",
    "\n",
    "    # determine roughness surface loss from Peters et al. \n",
    "    g = 4*np.pi*ave_roughness/wavelength # rms phase variation\n",
    "    rho = np.exp(-g**2)*(np.i0(g**2/2)**2)\n",
    "    \n",
    "    return 1-rho # in non-dB units"
   ]
  },
  {
   "cell_type": "code",
   "execution_count": 8,
   "id": "c0537db7",
   "metadata": {},
   "outputs": [
    {
     "name": "stdout",
     "output_type": "stream",
     "text": [
      "#### Ridged plains only ####\n",
      "RCS for VHF: 2.764642e+10\n",
      "RCS for HF: 2.507809e+10\n"
     ]
    }
   ],
   "source": [
    "rcs_vhf_rp = rcs_split*ridged_plains_roughness_surface_loss(vhf_wavelength)\n",
    "rcs_hf_rp = rcs_split*ridged_plains_roughness_surface_loss(hf_wavelength)\n",
    "print(\"#### Ridged plains only ####\")\n",
    "print(\"RCS for VHF: {:e}\".format(rcs_vhf))\n",
    "print(\"RCS for HF: {:e}\".format(rcs_hf))\n",
    "# Gives a slight improvement "
   ]
  },
  {
   "cell_type": "markdown",
   "id": "5e63aaa8",
   "metadata": {},
   "source": [
    "Assume: \n",
    "- REASON 60 MHz VHF antenna with 10 MHz bandwidth \n",
    "- REASON HF antenna with 9 MHz and 1 MHz bandwidth. \n",
    "- Speed (relative to Europa) is 4 km/s.\n",
    "- REASON can emit 10 W into space with a maximum pulse duration of XX and a VHF antenna gain of 6 dB. \n",
    "\n",
    "For the lowest altitude (25 km), this leads to a VHF link budget of"
   ]
  },
  {
   "cell_type": "code",
   "execution_count": 9,
   "id": "46e890b4",
   "metadata": {},
   "outputs": [
    {
     "name": "stdout",
     "output_type": "stream",
     "text": [
      "#### For lowest altitude (25 km) ####\n",
      "P_r of VHF = 1.2812335190719989e-07 W/m^4\n",
      "P_r of HF = 2.6614661746292355e-06 W/m^4\n"
     ]
    }
   ],
   "source": [
    "# LINK BUDGET PARAMETERS\n",
    "Pt_hf = 11.75\n",
    "Pt_vhf = 5.5\n",
    "Gt_hf = 10**(4/10) # 4 dB -> B\n",
    "Gt_vhf = 10**(7.3/10) # 7.3 dB -> B\n",
    "d = 25000 # altitude (m)\n",
    "c = 2.998e8 # m/s\n",
    "rcs = rcs_hf\n",
    "vhf_wavelength = c/(60e6) # m\n",
    "hf_wavelength = c/(9e6) # m\n",
    "\n",
    "print(\"#### For lowest altitude (25 km) ####\")\n",
    "Pr_vhf = radar_equation(Pt_vhf, Gt_vhf, d, rcs, vhf_wavelength)\n",
    "print(r'P_r of VHF = ' + str(Pr_vhf) + ' W/m^4')\n",
    "\n",
    "Pr_hf = radar_equation(Pt_hf, Gt_hf, d, rcs, hf_wavelength)\n",
    "print(r'P_r of HF = ' + str(Pr_hf) + ' W/m^4')"
   ]
  },
  {
   "cell_type": "markdown",
   "id": "f9a217f2",
   "metadata": {},
   "source": [
    "### Noise + SNR\n",
    "We can assume a galactic noise background if $N=10^{-17}$ W/MHz/m$^2$ and a detection threshold of 10 dB. However, there is intermittent and predictable radiation from Jupiter, which reaches a peak flux density of $N \\approx 10^{-14} \\mathrm{W/MHz/m^2}$ - this only affects the signal captured by HF. \n",
    "\n",
    "For the lowest altitude:"
   ]
  },
  {
   "cell_type": "code",
   "execution_count": 10,
   "id": "081572b8",
   "metadata": {},
   "outputs": [],
   "source": [
    "def max_range(Pt, Gt, rcs, wavelength, Plimit, pulse_compression_gain, N):\n",
    "    Pr = (10**((Plimit-pulse_compression_gain)/10))*N # solve for required SNR\n",
    "    \n",
    "    # From the gain, determine the effective area of REASON\n",
    "    Ae = (Gt*wavelength**2)/(4*np.pi)\n",
    "    \n",
    "    # Solve for the radar equation, but solve for d\n",
    "    d = ((Pt*Gt*rcs*Ae)/(Pr*16*np.pi**2))**0.25\n",
    "    \n",
    "    return d"
   ]
  },
  {
   "cell_type": "code",
   "execution_count": 11,
   "id": "912f2cfb",
   "metadata": {},
   "outputs": [
    {
     "name": "stdout",
     "output_type": "stream",
     "text": [
      "#### For lowest altitude (25 km) ####\n",
      "SNR of HF -- no Jupiter noise: 114.3 dB\n",
      "SNR of HF -- with Jupiter noise: 84.3 dB\n",
      "SNR of VHF -- no Jupiter noise: 101.1 dB\n",
      "#### Maximum range -- maximized pulse length ####\n",
      "HF -- no Jupiter noise -- max. range: 10424 km\n",
      "VHF -- no Jupiter noise -- max. range: 4883 km\n"
     ]
    }
   ],
   "source": [
    "N_galactic = 10**-17 # W/MHz/m^2\n",
    "N_jupiter = 10**-14 # W/MHz/m^2 # CONSIDER range of noise?\n",
    "\n",
    "print(\"#### For lowest altitude (25 km) ####\")\n",
    "# HF - galactic noise vs. Jupiter noise\n",
    "SNR_hf_galactic = Pr_hf / N_galactic\n",
    "print(\"SNR of HF -- no Jupiter noise: {:.1f} dB\".format(10*np.log10(SNR_hf_galactic)))\n",
    "SNR_hf_jupiter = Pr_hf / N_jupiter\n",
    "print(\"SNR of HF -- with Jupiter noise: {:.1f} dB\".format(10*np.log10(SNR_hf_jupiter)))\n",
    "\n",
    "SNR_vhf = Pr_vhf / N_galactic\n",
    "print(\"SNR of VHF -- no Jupiter noise: {:.1f} dB\".format(10*np.log10(SNR_vhf)))\n",
    "\n",
    "max_d_HF_galactic = max_range(Pt_hf, Gt_hf, rcs_split, hf_wavelength, 10, 0, N_galactic)\n",
    "max_d_HF_jupiter = max_range(Pt_hf, Gt_hf, rcs_split, hf_wavelength, 10, 0, N_jupiter)\n",
    "max_d_VHF = max_range(Pt_vhf, Gt_vhf, rcs_split, vhf_wavelength, 10, 0, N_galactic)\n",
    " \n",
    "# solve for the maximum pulse length\n",
    "print(\"#### Maximum range -- maximized pulse length ####\")\n",
    "print(\"HF -- no Jupiter noise -- max. range: {:.0f} km\".format(max_d_HF_galactic/1000))\n",
    "#print(\"HF -- with Jupiter noise -- max. range: {:.0f} km\".format(max_d_HF_jupiter/1000))\n",
    "print(\"VHF -- no Jupiter noise -- max. range: {:.0f} km\".format(max_d_VHF/1000))"
   ]
  },
  {
   "cell_type": "markdown",
   "id": "7abfe79a",
   "metadata": {},
   "source": [
    "### Maximum Range\n",
    "Now, we can test the upper limit for long distance ranging. The pulse length can vary $25 - 200 \\mu s$ for VHF and $10 - 236 \\mu s$ for HF. The bandwidth is 1 MHz for HF, 10 MHz for VHF. The pulse compression gain equals the ratio of the initial pulse length to the compressed pulse ($1/B_w$). From this, we can solve for the *maximum range*.\n",
    "\n",
    "This problem becomes interesting if we can detect a signal at 40,000-50,000 km, which is the maximum nadir height for Clipper. "
   ]
  },
  {
   "cell_type": "code",
   "execution_count": 12,
   "id": "ac189c41",
   "metadata": {
    "scrolled": true
   },
   "outputs": [
    {
     "name": "stdout",
     "output_type": "stream",
     "text": [
      "Max. range @ longest pulse, ridged plains: 39577.490 km\n",
      "Max. range @ longest pulse, icy sphere: 40856.040 km\n",
      "Max. range @ 1 uncompressed pulse (HF): 10423.853 km\n",
      "Max. range @ 1 uncompressed pulse (VHF): 4882.645 km\n"
     ]
    },
    {
     "data": {
      "image/png": "[encoded data removed]",
      "text/plain": [
       "<Figure size 1100x300 with 3 Axes>"
      ]
     },
     "metadata": {},
     "output_type": "display_data"
    }
   ],
   "source": [
    "pulse_length_hf = np.linspace(10*10**-6, 236*10**-6, 10000, endpoint=True) # s\n",
    "pulse_length_vhf = np.linspace(25*10**-6, 200*10**-6, 10000, endpoint=True) # s\n",
    "\n",
    "pulse_compressed_hf = 1/(10**6) # 1/B_w\n",
    "pulse_compressed_vhf = 1/(10*10**6) # 1/B_w\n",
    "\n",
    "pulse_compression_gain_hf = 10*np.log10(pulse_length_hf/pulse_compressed_hf)\n",
    "pulse_compression_gain_vhf = 10*np.log10(pulse_length_vhf/pulse_compressed_vhf)\n",
    "\n",
    "# P_r must be at least 10 dB\n",
    "Plimit = 10 #dB\n",
    "\n",
    "max_d_HF_galactic = max_range(Pt_hf, Gt_hf, rcs, hf_wavelength, Plimit, pulse_compression_gain_hf, N_galactic)\n",
    "max_d_HF_jupiter = max_range(Pt_hf, Gt_hf, rcs, hf_wavelength, Plimit, pulse_compression_gain_hf, N_jupiter)\n",
    "max_d_VHF = max_range(Pt_vhf, Gt_vhf, rcs_vhf, vhf_wavelength, Plimit, pulse_compression_gain_vhf, N_galactic)\n",
    "\n",
    "fig, ax = plt.subplots(1, 3, figsize=(11,3))\n",
    "\n",
    "ax[0].plot(pulse_length_hf/10**-6, max_d_HF_galactic/1000)\n",
    "ax[0].set_xlabel(\"Pulse length (microseconds)\")\n",
    "ax[0].set_ylabel(\"Maximum range (km)\")\n",
    "ax[0].set_title(\"HF - no Jupiter noise\")\n",
    "\n",
    "ax[1].plot(pulse_length_hf/10**-6, max_d_HF_jupiter/1000)\n",
    "ax[1].set_xlabel(\"Pulse length (microseconds)\")\n",
    "ax[1].set_ylabel(\"Maximum range (km)\")\n",
    "ax[1].set_title(\"HF - with Jupiter noise\")\n",
    "\n",
    "ax[2].plot(pulse_length_vhf/10**-6, max_d_VHF/1000)\n",
    "ax[2].set_xlabel(\"Pulse length (microseconds)\")\n",
    "ax[2].set_ylabel(\"Maximum range (km)\")\n",
    "ax[2].set_title(\"VHF\")\n",
    "\n",
    "# Label nadir height\n",
    "ax[0].axhline(40000, ls='--', color='orange')\n",
    "ax[1].axhline(40000, ls='--', color='orange')\n",
    "ax[2].axhline(40000, ls='--', color='orange')\n",
    "\n",
    "ax[0].set_yscale('log')\n",
    "ax[1].set_yscale('log')\n",
    "ax[2].set_yscale('log')\n",
    "\n",
    "#ax[0].set_ylim((1*10**3, 6*10**4))\n",
    "#ax[1].set_ylim((1*10**3, 6*10**4))\n",
    "#ax[2].set_ylim((1*10**3, 6*10**4))\n",
    "\n",
    "plt.tight_layout()\n",
    "\n",
    "### PRINT MAX RANGE @ longest pulse (compare RCS_hf_rp ridged plains vs. RCS_split icy sphere)\n",
    "max_d_HF_rp = max_range(Pt_hf, Gt_hf, rcs_hf, hf_wavelength, Plimit, pulse_compression_gain_hf, N_galactic)\n",
    "max_d_HF_icy = max_range(Pt_hf, Gt_hf, rcs_split, hf_wavelength, Plimit, pulse_compression_gain_hf, N_galactic)\n",
    "print(\"Max. range @ longest pulse, ridged plains: {:.3f} km\".format(max_d_HF_rp[-1]/1000))\n",
    "print(\"Max. range @ longest pulse, icy sphere: {:.3f} km\".format(max_d_HF_icy[-1]/1000))\n",
    "\n",
    "### PRINT MAX RANGE @ 1 uncompressed pulse, icy, noise\n",
    "# just to hit some power detection threshold based on radar equation\n",
    "max_d_HF_simple = max_range(Pt_hf, Gt_hf, rcs_split, hf_wavelength, Plimit, 0, N_galactic)\n",
    "max_d_VHF_simple = max_range(Pt_vhf, Gt_vhf, rcs_split, vhf_wavelength, Plimit, 0, N_galactic)\n",
    "print(\"Max. range @ 1 uncompressed pulse (HF): {:.3f} km\".format(max_d_HF_simple/1000))\n",
    "print(\"Max. range @ 1 uncompressed pulse (VHF): {:.3f} km\".format(max_d_VHF_simple/1000))\n"
   ]
  },
  {
   "cell_type": "code",
   "execution_count": null,
   "id": "59f7c6e4",
   "metadata": {},
   "outputs": [],
   "source": []
  },
  {
   "cell_type": "markdown",
   "id": "474b809f",
   "metadata": {},
   "source": [
    "We can maximize the pulse length for both HF and VHF,  giving the following maximum ranges:"
   ]
  },
  {
   "cell_type": "code",
   "execution_count": 13,
   "id": "4e11acb6",
   "metadata": {},
   "outputs": [
    {
     "name": "stdout",
     "output_type": "stream",
     "text": [
      "#### Maximum range -- maximized pulse length ####\n",
      "HF -- no Jupiter noise -- pulse length: 236 microseconds, max. range: 39577 km\n",
      "HF -- with Jupiter noise -- pulse length: 236 microseconds, max. range: 7038 km\n",
      "VHF -- no Jupiter noise -- pulse length: 200 microseconds, max. range: 32411 km\n"
     ]
    }
   ],
   "source": [
    "# solve for the maximum pulse length\n",
    "print(\"#### Maximum range -- maximized pulse length ####\")\n",
    "print(\"HF -- no Jupiter noise -- pulse length: {:.0f} microseconds, max. range: {:.0f} km\".format(pulse_length_hf[-1]/10**-6, max_d_HF_galactic[-1]/1000))\n",
    "print(\"HF -- with Jupiter noise -- pulse length: {:.0f} microseconds, max. range: {:.0f} km\".format(pulse_length_hf[-1]/10**-6, max_d_HF_jupiter[-1]/1000))\n",
    "print(\"VHF -- no Jupiter noise -- pulse length: {:.0f} microseconds, max. range: {:.0f} km\".format(pulse_length_vhf[-1]/10**-6, max_d_VHF[-1]/1000))"
   ]
  },
  {
   "cell_type": "markdown",
   "id": "031655be",
   "metadata": {},
   "source": [
    "Now we can plot surface roughness vs. maximum range for different values of surface roughness, ranging from the radar cross section of pure water/ice sphere to the estimate from calculating the roughness of various Europa regions."
   ]
  },
  {
   "cell_type": "code",
   "execution_count": 14,
   "id": "90dda445",
   "metadata": {},
   "outputs": [
    {
     "name": "stdout",
     "output_type": "stream",
     "text": [
      "#### Maximum range -- from surface roughness ####\n",
      "HF -- no Jupiter noise -- max. range: 2862 km\n",
      "HF -- with Jupiter noise -- max. range: 478 km\n",
      "VHF -- no Jupiter noise -- max. range: 1513 km\n"
     ]
    }
   ],
   "source": [
    "# max out pulse length\n",
    "pulse_length_hf = 236*10**-6 # s\n",
    "pulse_length_vhf = 200*10**-6 # s\n",
    "pulse_compressed_hf = 1/(10**6) # 1/B_w\n",
    "pulse_compressed_vhf = 1/(10*10**6) # 1/B_w\n",
    "pulse_compression_gain_hf = 10*np.log10(pulse_length_hf/pulse_compressed_hf)\n",
    "pulse_compression_gain_vhf = 10*np.log10(pulse_length_vhf/pulse_compressed_vhf)\n",
    "\n",
    "# P_r must be at least 10 dB\n",
    "Plimit = 10 #dB\n",
    "\n",
    "hf_bandwidth = 1e6 # Hz\n",
    "hf_Ae = (Gt_hf*hf_wavelength**2)/(4*np.pi)\n",
    "vhf_bandwidth = 10e6 # Hz\n",
    "vhf_Ae = (Gt_vhf*vhf_wavelength**2)/(4*np.pi)\n",
    "\n",
    "# TRY RCS RANGE\n",
    "rcs = np.linspace(rcs_hf, rcs_vhf, 10000, endpoint='True')\n",
    "\n",
    "max_d_HF_galactic = max_range(6, 10**0.6, 2.8e10, hf_wavelength, Plimit, 0, N_galactic*hf_Ae*hf_bandwidth/1e6 )\n",
    "max_d_HF_jupiter = max_range(Pt_hf, Gt_hf, 2.8e10, hf_wavelength, Plimit, 0, N_jupiter*hf_Ae*hf_bandwidth/1e6 )\n",
    "max_d_VHF = max_range(Pt_vhf, Gt_vhf, 2.8e10, vhf_wavelength, Plimit, 0, N_galactic*vhf_Ae*vhf_bandwidth/1e6 )\n",
    "'''\n",
    "fig, ax = plt.subplots(1, 3, figsize=(11,3))\n",
    "\n",
    "ax[0].plot(rcs, max_d_HF_galactic/1000, color='purple')\n",
    "ax[0].set_xlabel(\"Radar cross section\")\n",
    "ax[0].set_ylabel(\"Maximum range (km)\")\n",
    "ax[0].set_title(\"HF - no Jupiter noise\")\n",
    "\n",
    "ax[1].plot(rcs, max_d_HF_jupiter/1000, color='purple')\n",
    "ax[1].set_xlabel(\"Radar cross section\")\n",
    "ax[1].set_ylabel(\"Maximum range (km)\")\n",
    "ax[1].set_title(\"HF - with Jupiter noise\")\n",
    "\n",
    "ax[2].plot(rcs, max_d_VHF/1000, color='purple')\n",
    "ax[2].set_xlabel(\"Radar cross section\")\n",
    "ax[2].set_ylabel(\"Maximum range (km)\")\n",
    "ax[2].set_title(\"VHF\")\n",
    "\n",
    "# Label nadir height\n",
    "ax[0].axhline(40000, ls='--', color='orange')\n",
    "ax[1].axhline(40000, ls='--', color='orange')\n",
    "ax[2].axhline(40000, ls='--', color='orange')\n",
    "\n",
    "ax[0].set_yscale('log')\n",
    "ax[1].set_yscale('log')\n",
    "ax[2].set_yscale('log')\n",
    "print(rcs)\n",
    "plt.tight_layout()\n",
    "'''\n",
    "\n",
    "# solve for the maximum pulse length\n",
    "print(\"#### Maximum range -- from surface roughness ####\")\n",
    "print(\"HF -- no Jupiter noise -- max. range: {:.0f} km\".format(max_d_HF_galactic/1000))\n",
    "print(\"HF -- with Jupiter noise -- max. range: {:.0f} km\".format(max_d_HF_jupiter/1000))\n",
    "print(\"VHF -- no Jupiter noise -- max. range: {:.0f} km\".format(max_d_VHF/1000))"
   ]
  },
  {
   "cell_type": "markdown",
   "id": "3e6b4c8c",
   "metadata": {},
   "source": [
    "## Doppler Resolution\n",
    "At $v=4$ km/s, we can calculate the Doppler frequency with $fv/c$. "
   ]
  },
  {
   "cell_type": "code",
   "execution_count": 15,
   "id": "c839d041",
   "metadata": {},
   "outputs": [
    {
     "name": "stdout",
     "output_type": "stream",
     "text": [
      "Doppler frequency of HF: 120 Hz\n",
      "Doppler frequency of VHF: 801 Hz\n"
     ]
    }
   ],
   "source": [
    "c = 2.998e8 # m/s\n",
    "v = 4000 # m/s\n",
    "\n",
    "# HF (9 MHz)\n",
    "doppler_freq_hf = 9*10**6 * v / c\n",
    "print(\"Doppler frequency of HF: {:.0f} Hz\".format(doppler_freq_hf))\n",
    "\n",
    "# VHF (60 MHz)\n",
    "doppler_freq_hf = 60*10**6 * v / c\n",
    "print(\"Doppler frequency of VHF: {:.0f} Hz\".format(doppler_freq_hf))"
   ]
  },
  {
   "cell_type": "markdown",
   "id": "0ebb2ef3",
   "metadata": {},
   "source": [
    "With Nyquist's theorem: the sampling rate should be twice the Doppler frequency: 1.6 kHz for VHF, 240 Hz for HF. \n",
    "We can test distances for the Doppler resolution, which are plotted below.\n",
    "\n",
    "Assuming a distance of 1 Mil km, the round trip time is about 7s, leading to a frequency resolution  of 1/7 = 0.15 m/s. The Doppler resolution is then $0.15/(60\\times10^6*3\\times10^8)=0.75$ m/s."
   ]
  },
  {
   "cell_type": "code",
   "execution_count": 16,
   "id": "bdf0d594",
   "metadata": {},
   "outputs": [
    {
     "data": {
      "image/png": "[encoded data removed]",
      "text/plain": [
       "<Figure size 800x300 with 2 Axes>"
      ]
     },
     "metadata": {},
     "output_type": "display_data"
    }
   ],
   "source": [
    "distances = np.linspace(30000*1e3, 1e6*1e3, 100000) \n",
    "\n",
    "round_trip_time = 2*distances/c # seconds\n",
    "frequency_resolution = 1/round_trip_time # Hz\n",
    "doppler_resolution_hf = frequency_resolution/(9*10**6 / c)\n",
    "doppler_resolution_vhf = frequency_resolution/(60*10**6 / c)\n",
    "\n",
    "fig, ax = plt.subplots(1, 2, figsize=(8,3))\n",
    "ax[0].plot(distances/1000, doppler_resolution_hf, color='green')\n",
    "ax[0].set_xlabel(\"Distance from Europa (km)\")\n",
    "ax[0].set_ylabel(\"Doppler resolution (m/s)\")\n",
    "ax[0].set_title(\"HF\")\n",
    "\n",
    "ax[1].plot(distances/1000, doppler_resolution_vhf, color='green')\n",
    "ax[1].set_xlabel(\"Distance from Europa (km)\")\n",
    "ax[1].set_ylabel(\"Doppler resolution (m/s)\")\n",
    "ax[1].set_title(\"VHF\")\n",
    "\n",
    "# Label nadir height\n",
    "ax[0].axvline(40000, ls='--', color='orange')\n",
    "ax[1].axvline(40000, ls='--', color='orange')\n",
    "\n",
    "ax[0].set_yscale('log')\n",
    "ax[1].set_yscale('log')\n",
    "ax[0].set_xscale('log')\n",
    "ax[1].set_xscale('log')\n",
    "\n",
    "ax[0].set_ylim((0.5, 300))\n",
    "ax[1].set_ylim((0.5, 300))\n",
    "plt.tight_layout()"
   ]
  },
  {
   "cell_type": "markdown",
   "id": "4e696d46",
   "metadata": {},
   "source": [
    "### SNR-Based Phase Noise\n",
    "The SNR itself (after pulse compression and/or before) will produce an error in the phase, which results in errors for the frequency estimate in Doppler shift. For a coherent pulse train, we describe this with the lower Cramer-Rao bound for Doppler shift:\n",
    "$$CRB_{f_d} = \\frac{1}{2 \\times T \\times K \\times SNR \\times F_s \\times R_2} $$\n",
    "\n",
    "- T = pulse on-time\n",
    "- K = number of pulses\n",
    "- $SNR \\times F_s$ = SNR times sampling rate\n",
    "- $R_2$ = variance of pulse times"
   ]
  },
  {
   "cell_type": "code",
   "execution_count": 17,
   "id": "2cbf75f5",
   "metadata": {},
   "outputs": [],
   "source": [
    "def cramer_rao_doppler(T, K, SNR, F_s, R_2):\n",
    "    return 1/(2*T*K*SNR*F_s*R_2)"
   ]
  },
  {
   "cell_type": "code",
   "execution_count": 18,
   "id": "948885e1",
   "metadata": {},
   "outputs": [
    {
     "data": {
      "text/plain": [
       "'\\n# Define parameters\\nT = round_trip_time\\nK = \\nSNR = 10*np.log10(10) # = 10 dB\\nF_s = \\nR_2 = \\n\\ncramer_rao_doppler = cramer_rao_doppler(round_trip_time, 10*np.log10(10)) #SNR = 10 dB\\nprint(\"Cramer Rao lower bound: {:e} Hz\".format(cramer_rao_doppler))\\n'"
      ]
     },
     "execution_count": 18,
     "metadata": {},
     "output_type": "execute_result"
    }
   ],
   "source": [
    "'''\n",
    "# Define parameters\n",
    "T = round_trip_time\n",
    "K = \n",
    "SNR = 10*np.log10(10) # = 10 dB\n",
    "F_s = \n",
    "R_2 = \n",
    "\n",
    "cramer_rao_doppler = cramer_rao_doppler(round_trip_time, 10*np.log10(10)) #SNR = 10 dB\n",
    "print(\"Cramer Rao lower bound: {:e} Hz\".format(cramer_rao_doppler))\n",
    "'''"
   ]
  },
  {
   "cell_type": "markdown",
   "id": "81ab1551",
   "metadata": {},
   "source": [
    "## Coherent Pulse Train - Doppler Resolution\n",
    "We can also calculate range ambiguity given the pulse train properties for HF + VHF. \n",
    "\n",
    "HF waveform properties:\n",
    "- $t_{burst}$ = round trip time = $0.267 s$\n",
    "- T = 1/PRF = $3.3 \\times 10^{-7}$ s\n",
    "- $t_{pulse} = 200 \\mu s$\n",
    "\n",
    "VHF waveform properties:\n",
    "- $t_{burst}$ = round trip time = $0.267 s$\n",
    "- T = 1/PRF = $3.3 \\times 10^{-7}$ s\n",
    "- $t_{pulse} = 236 \\mu s$\n",
    "\n",
    "From this, we can calculate the spectral line width $\\delta f$, the line spacing $\\Delta f$, the ambiguity in frequency measurement, and the ambiguity in range measurement.\n",
    "$$\\delta f \\approx t_{burst}^{-1}$$\n",
    "$$\\Delta f \\approx T^{-1} = PRF$$\n",
    "$$f_{amb} = \\Delta f$$\n",
    "$$R_{amb} = c / 2T$$"
   ]
  },
  {
   "cell_type": "code",
   "execution_count": 19,
   "id": "5094a901",
   "metadata": {},
   "outputs": [
    {
     "name": "stdout",
     "output_type": "stream",
     "text": [
      "Range resolution: 4.542424e+11 km\n"
     ]
    }
   ],
   "source": [
    "# Spectral line width\n",
    "spectral_line_width = 1/0.267 # same for HF, VHF\n",
    "\n",
    "# Line spacing\n",
    "line_spacing = 1/3.3e-7 # same for HF, VHF\n",
    "\n",
    "# Ambiguity in frequency\n",
    "f_amb = line_spacing\n",
    "\n",
    "# Ambiguity in range\n",
    "r_amb = c/(2*3.3e-7)\n",
    "print(\"Range resolution: {:e} km\".format(r_amb/1000))"
   ]
  },
  {
   "cell_type": "markdown",
   "id": "36906de3",
   "metadata": {},
   "source": [
    "## Multiple Pulses - Ranging\n",
    "We can take as many long pulses as possible (maximizing pulse length, PRF), limited by the round trip time of the pulses. We can then compress pulses + pre-sum to obtain an FFT to assess frequency and velocity resolution.\n",
    "\n",
    "HF signal with following properties:\n",
    "- Pulse length = $200 \\mu s$\n",
    "- Bandwidth = 1 MHz\n",
    "- Pulse repetition frequency = 3 kHz\n",
    "- Carrier (center) frequency = 9 MHz\n",
    "- Sample rate = 240 Hz (for Doppler frequency)\n",
    "\n",
    "VHF signal with following properties:\n",
    "- Pulse length = $236 \\mu s$\n",
    "- Bandwidth = 10 MHz\n",
    "- Pulse repetition frequency = 3kHz\n",
    "- Carrier (center) frequency = 60 MHz\n",
    "- Sample rate = 1600 Hz (for Doppler frequency)\n",
    "\n",
    "The repetition frequency is limited by the pulse length -- here we can maximize pulse length to get a repetition frequency of 5000 Hz."
   ]
  },
  {
   "cell_type": "code",
   "execution_count": 20,
   "id": "655e7a5a",
   "metadata": {},
   "outputs": [
    {
     "name": "stdout",
     "output_type": "stream",
     "text": [
      "Round trip time: 2.66844563042028 s\n",
      "N: 8005\n"
     ]
    }
   ],
   "source": [
    "import scipy \n",
    "import matplotlib.ticker as mticker\n",
    "\n",
    "d = 400000 # 1 mil km # distance set\n",
    "\n",
    "# Set parameters\n",
    "hf_pulse_length = 200e-6 # s\n",
    "hf_repetition_freq = 3000 # Hz\n",
    "hf_bandwidth = 1e6 # Hz\n",
    "hf_chirp_rate = hf_bandwidth/hf_pulse_length # Hz/s\n",
    "hf_fc = 9e6 # Hz\n",
    "\n",
    "vhf_pulse_length = 236e-6 # s\n",
    "vhf_repetition_freq = 3000 # Hz\n",
    "vhf_bandwidth = 10e6 # Hz\n",
    "vhf_chirp_rate = vhf_bandwidth/vhf_pulse_length # Hz/s\n",
    "vhf_fc = 60e6 # Hz\n",
    "\n",
    "# Set time array, N chirps, sample rate\n",
    "round_trip_time = 2*d*1e3/c # seconds\n",
    "print(\"Round trip time: \" + str(round_trip_time) + \" s\")\n",
    "N_chirps = int(round_trip_time * hf_repetition_freq) # round\n",
    "#N_chirps = 10 # TEMPORARY\n",
    "print(\"N: \" + str(N_chirps))\n",
    "#print(\"Time array length: \" + str(len(times)))"
   ]
  },
  {
   "cell_type": "code",
   "execution_count": 21,
   "id": "bce90b81",
   "metadata": {},
   "outputs": [],
   "source": [
    "# define chirp signal for HF and VHF\n",
    "def hf_chirp(N_chirps):\n",
    "    # FOR ONE CHIRP\n",
    "    sample_rate = 1/((hf_fc+hf_bandwidth/2) * 10) #s\n",
    "    #print(\"Sample rate: {:e} s\".format(sample_rate))\n",
    "    t_onechirp = np.arange(0, hf_pulse_length+sample_rate, sample_rate)\n",
    "    \n",
    "    # produce chirp signal\n",
    "    start = hf_fc + hf_bandwidth/2\n",
    "    end = hf_fc - hf_bandwidth/2\n",
    "    chirp_signal = scipy.signal.chirp(t_onechirp, f0=start, f1=end, t1=hf_pulse_length, method='linear')\n",
    "    \n",
    "    times = np.arange(0, (N_chirps*(1/hf_repetition_freq)) + sample_rate, sample_rate) \n",
    "    # all the times for multiple pulses\n",
    "    \n",
    "    res = np.zeros_like(times) # stores final signal\n",
    "    for i in range(N_chirps):\n",
    "        # calculate start + end of each pulse\n",
    "        start_time = i * (1/hf_repetition_freq)\n",
    "        end_time = start_time + hf_pulse_length\n",
    "        \n",
    "        # need to space with sample rate\n",
    "        start_idx = int(start_time / sample_rate)\n",
    "        end_idx = int(end_time / sample_rate)\n",
    "        \n",
    "        # Ensure we don't exceed time array\n",
    "        end_idx = min(end_idx, len(res))\n",
    "        chunk_length = end_idx - start_idx\n",
    "        \n",
    "        res[start_idx:end_idx] = chirp_signal[:chunk_length]\n",
    "    \n",
    "    return times, res \n",
    "\n",
    "def vhf_chirp(N_chirps):\n",
    "    # FOR ONE CHIRP\n",
    "    sample_rate = 1/((vhf_fc+vhf_bandwidth/2) * 10) #s\n",
    "    #print(\"Sample rate: {:e} s\".format(sample_rate))\n",
    "    t_onechirp = np.arange(0, vhf_pulse_length+sample_rate, sample_rate)\n",
    "    \n",
    "    # produce chirp signal\n",
    "    start = vhf_fc + vhf_bandwidth/2\n",
    "    end = vhf_fc - vhf_bandwidth/2\n",
    "    chirp_signal = scipy.signal.chirp(t_onechirp, f0=start, f1=end, t1=vhf_pulse_length, method='linear')\n",
    "    \n",
    "    times = np.arange(0, (N_chirps*(1/vhf_repetition_freq)) + sample_rate, sample_rate) # all the times for multiple pulses\n",
    "    \n",
    "    res = np.zeros_like(times) # stores final signal\n",
    "    for i in range(N_chirps):\n",
    "        # calculate start + end of each pulse\n",
    "        start_time = i * (1/hf_repetition_freq)\n",
    "        end_time = start_time + hf_pulse_length\n",
    "        \n",
    "        # need to space with sample rate\n",
    "        start_idx = int(start_time / sample_rate)\n",
    "        end_idx = int(end_time / sample_rate)\n",
    "        \n",
    "        # Ensure we don't exceed time array\n",
    "        end_idx = min(end_idx, len(res))\n",
    "        chunk_length = end_idx - start_idx\n",
    "        \n",
    "        res[start_idx:end_idx] = chirp_signal[:chunk_length]\n",
    "    \n",
    "    return times, res "
   ]
  },
  {
   "cell_type": "markdown",
   "id": "36611485",
   "metadata": {},
   "source": [
    "Now plotting the signal to visualize how it would look like under the sample rate + within round trip time (assume 40,000 km).\n",
    "\n",
    "For ranging, we have:\n",
    "$$CRB_{range} = \\frac{c^2}{8 \\pi^2 \\beta^2 \\rm{SNR}}$$\n",
    "\n",
    "for c = speed of light, $\\beta$ = bandwidth."
   ]
  },
  {
   "cell_type": "code",
   "execution_count": 22,
   "id": "8a411141",
   "metadata": {},
   "outputs": [
    {
     "ename": "KeyboardInterrupt",
     "evalue": "",
     "output_type": "error",
     "traceback": [
      "\u001b[0;31m---------------------------------------------------------------------------\u001b[0m",
      "\u001b[0;31mKeyboardInterrupt\u001b[0m                         Traceback (most recent call last)",
      "Input \u001b[0;32mIn [22]\u001b[0m, in \u001b[0;36m<cell line: 9>\u001b[0;34m()\u001b[0m\n\u001b[1;32m      3\u001b[0m vhf_times, vhf_transmit \u001b[38;5;241m=\u001b[39m vhf_chirp(N_chirps)\n\u001b[1;32m      5\u001b[0m \u001b[38;5;66;03m# CALCULATING NOISE WITH CRAMER RAO BOUNDS (doubt this is correct)\u001b[39;00m\n\u001b[1;32m      6\u001b[0m \u001b[38;5;66;03m#crb_hf = (c**2)/(8*np.pi**2*hf_bandwidth**2*10) # used plimit here\u001b[39;00m\n\u001b[1;32m      7\u001b[0m \u001b[38;5;66;03m#crb_vhf = (c**2)/(8*np.pi**2*vhf_bandwidth**2*10)\u001b[39;00m\n\u001b[0;32m----> 9\u001b[0m hf_withnoise \u001b[38;5;241m=\u001b[39m \u001b[43mhf_transmit\u001b[49m\u001b[43m \u001b[49m\u001b[38;5;241;43m+\u001b[39;49m\u001b[43m \u001b[49m\u001b[43mnp\u001b[49m\u001b[38;5;241;43m.\u001b[39;49m\u001b[43mrandom\u001b[49m\u001b[38;5;241;43m.\u001b[39;49m\u001b[43mnormal\u001b[49m\u001b[43m(\u001b[49m\u001b[43mloc\u001b[49m\u001b[38;5;241;43m=\u001b[39;49m\u001b[43mN_galactic\u001b[49m\u001b[43m,\u001b[49m\u001b[43m \u001b[49m\u001b[43msize\u001b[49m\u001b[38;5;241;43m=\u001b[39;49m\u001b[38;5;28;43mlen\u001b[39;49m\u001b[43m(\u001b[49m\u001b[43mhf_times\u001b[49m\u001b[43m)\u001b[49m\u001b[43m)\u001b[49m\u001b[38;5;66;03m# White Gaussian noise\u001b[39;00m\n\u001b[1;32m     10\u001b[0m vhf_withnoise \u001b[38;5;241m=\u001b[39m vhf_transmit \u001b[38;5;241m+\u001b[39m np\u001b[38;5;241m.\u001b[39mrandom\u001b[38;5;241m.\u001b[39mnormal(loc\u001b[38;5;241m=\u001b[39mN_galactic, size\u001b[38;5;241m=\u001b[39m\u001b[38;5;28mlen\u001b[39m(vhf_times))\n",
      "\u001b[0;31mKeyboardInterrupt\u001b[0m: "
     ]
    }
   ],
   "source": [
    "# TRANSMITTED SIGNAL + NOISE\n",
    "hf_times, hf_transmit = hf_chirp(N_chirps)\n",
    "vhf_times, vhf_transmit = vhf_chirp(N_chirps)\n",
    "\n",
    "# CALCULATING NOISE WITH CRAMER RAO BOUNDS (doubt this is correct)\n",
    "#crb_hf = (c**2)/(8*np.pi**2*hf_bandwidth**2*10) # used plimit here\n",
    "#crb_vhf = (c**2)/(8*np.pi**2*vhf_bandwidth**2*10)\n",
    "\n",
    "hf_withnoise = hf_transmit + np.random.normal(loc=N_galactic, size=len(hf_times))# White Gaussian noise\n",
    "vhf_withnoise = vhf_transmit + np.random.normal(loc=N_galactic, size=len(vhf_times))"
   ]
  },
  {
   "cell_type": "markdown",
   "id": "c2b8cc5b",
   "metadata": {},
   "source": [
    "Below, I follow the tutorial here: https://users.camk.edu.pl/bejger/snr-periodic-signal/\n",
    "\n",
    "**1. Plotting original signal + noise**"
   ]
  },
  {
   "cell_type": "code",
   "execution_count": null,
   "id": "a24fb859",
   "metadata": {},
   "outputs": [],
   "source": [
    "fig, ax = plt.subplots(1, 2, figsize=(10,4))\n",
    "ax[0].plot(hf_times, hf_withnoise, '-', color=\"grey\", label='With noise')\n",
    "ax[0].plot(hf_times, hf_transmit, '-', color=\"maroon\", label='Without noise', linewidth=2)\n",
    "ax[1].plot(vhf_times, vhf_withnoise, '-', color=\"grey\")\n",
    "ax[1].plot(vhf_times, vhf_transmit, '-', color=\"maroon\", linewidth=2)\n",
    "ax[0].set_title(\"HF\")\n",
    "ax[1].set_title(\"VHF\")\n",
    "\n",
    "ax[0].legend()\n",
    "\n",
    "for axes in ax.reshape(-1):\n",
    "    axes.set_xlabel(\"Time (s)\", fontsize=10)\n",
    "    axes.set_ylabel('data = signal + noise')\n",
    "    axes.grid(True)\n",
    "    #axes.set_xlim((0, 2e-4))\n",
    "    axes.locator_params(axis='x', nbins=5)\n",
    "    axes.xaxis.set_major_formatter(mticker.FormatStrFormatter('%.2e'))\n",
    "    \n",
    "plt.figure()"
   ]
  },
  {
   "cell_type": "markdown",
   "id": "0f55b3ea",
   "metadata": {},
   "source": [
    "**2. Recover signal with matched filter using FFT** "
   ]
  },
  {
   "cell_type": "code",
   "execution_count": null,
   "id": "29723976",
   "metadata": {},
   "outputs": [],
   "source": [
    "# Create the matched filter\n",
    "hf_matchedfilter = hf_transmit\n",
    "vhf_matchedfilter = vhf_transmit\n",
    "\n",
    "# Calculate matched filter == fft(signal)*fft(filter) conjugate\n",
    "# CONVERT BACK TO TIME SPECTRUM\n",
    "hf_corr = np.fft.fftshift(np.fft.ifft(np.fft.fft(hf_withnoise)*np.conj(np.fft.fft(hf_matchedfilter))))\n",
    "vhf_corr = np.fft.fftshift(np.fft.ifft(np.fft.fft(vhf_withnoise)*np.conj(np.fft.fft(vhf_matchedfilter))))\n",
    "\n",
    "#vhf_corr = scipy.signal.convolve(vhf_withnoise, vhf_matchedfilter, mode='same')"
   ]
  },
  {
   "cell_type": "code",
   "execution_count": null,
   "id": "6b200211",
   "metadata": {
    "scrolled": true
   },
   "outputs": [],
   "source": [
    "#### PLOT transmitted + matched filter + received signal (With noise) + cross corr signal####\n",
    "fig, ax = plt.subplots(4, 2, figsize=(10,8))\n",
    "ax[0, 0].plot(hf_times, hf_transmit, color='maroon')\n",
    "ax[1, 0].plot(hf_times, np.conj(hf_matchedfilter), color='maroon') # for plotting\n",
    "ax[2, 0].plot(hf_times, hf_withnoise, color='grey')\n",
    "ax[3, 0].plot(hf_times, np.abs(hf_corr), color='navy')\n",
    "\n",
    "ax[0, 1].plot(vhf_times, vhf_transmit, color='maroon')\n",
    "ax[1, 1].plot(vhf_times, np.conj(vhf_matchedfilter), color='maroon')\n",
    "ax[2, 1].plot(vhf_times, vhf_withnoise, color='grey')\n",
    "ax[3, 1].plot(vhf_times, np.abs(vhf_corr), color='navy')\n",
    "\n",
    "ax[0,0].set_title(\"HF\")\n",
    "ax[0,1].set_title(\"VHF\")\n",
    "ax[0,0].set_ylabel(\"Transmitted signal\")\n",
    "ax[1,0].set_ylabel(\"Matched filter\")\n",
    "ax[2,0].set_ylabel(\"Received signal\")\n",
    "ax[3,0].set_ylabel(\"Cross correlated signal\")\n",
    "\n",
    "for axes in ax.reshape(-1):\n",
    "    axes.set_xlabel(\"Time (s)\", fontsize=10)\n",
    "    axes.grid(True)\n",
    "    axes.locator_params(axis='x', nbins=5)\n",
    "    axes.xaxis.set_major_formatter(mticker.FormatStrFormatter('%.2e'))\n",
    "    \n",
    "#ax[3,0].set_xlim(110e-6, 140e-6)    \n",
    "#ax[3,1].set_xlim(120e-6, 130e-6) "
   ]
  },
  {
   "cell_type": "markdown",
   "id": "a984d51a",
   "metadata": {},
   "source": [
    "**3. Determine the SNR after the matched filter has been applied** "
   ]
  },
  {
   "cell_type": "code",
   "execution_count": null,
   "id": "36f509fd",
   "metadata": {},
   "outputs": [],
   "source": [
    "#### PLOT signal after matched filter (FFT) ####\n",
    "fig, ax = plt.subplots(1, 2, figsize=(10,4))\n",
    "hf_freq = np.fft.fftfreq(len(hf_times), d=hf_times[1]-hf_times[0])\n",
    "vhf_freq = np.fft.fftfreq(len(vhf_times), d=vhf_times[1]-vhf_times[0])\n",
    "\n",
    "ax[0].scatter(hf_freq, 10*np.log10(np.abs(np.fft.fft(hf_withnoise))), c=\"grey\", s=5, label='Received signal')\n",
    "ax[0].scatter(hf_freq, 10*np.log10(np.abs(np.fft.fft(hf_corr))), c='navy', alpha=0.7, s=5, label='Pulse compressed signal')\n",
    "ax[1].scatter(vhf_freq, 10*np.log10(np.abs(np.fft.fft(vhf_withnoise))), c=\"grey\", s=5, label='Received signal')\n",
    "ax[1].scatter(vhf_freq, 10*np.log10(np.abs(np.fft.fft(vhf_corr))), c='navy', alpha=0.7, s=5, label='Pulse compressed signal')\n",
    "ax[0].set_title(\"HF\")\n",
    "ax[1].set_title(\"VHF\")\n",
    "\n",
    "for axes in ax.reshape(-1):\n",
    "    #axes.set_xlim(np.min(sample_freq), np.max(sample_freq)) \n",
    "    # can take positive spectrum only: plt.xlim(0, np.max(sample_freq)) \n",
    "    axes.set_xlabel(\"Frequency bins\", fontsize=10)\n",
    "    axes.set_ylabel('Fourier transform power (dB)', fontsize=10)\n",
    "    axes.grid(True)\n",
    "ax[0].set_xlim(0.5e7, 1.3e7)\n",
    "ax[1].set_xlim(0.3e8, 0.9e8)\n",
    "\n",
    "#ax[0].legend(loc='best', fontsize=8)"
   ]
  },
  {
   "cell_type": "markdown",
   "id": "5808cd80",
   "metadata": {},
   "source": [
    "SNR = height of peak / variance of noise floor"
   ]
  },
  {
   "cell_type": "code",
   "execution_count": 23,
   "id": "bb191920",
   "metadata": {},
   "outputs": [
    {
     "name": "stdout",
     "output_type": "stream",
     "text": [
      "#### UNSCALED with distance ####\n"
     ]
    },
    {
     "ename": "NameError",
     "evalue": "name 'hf_corr' is not defined",
     "output_type": "error",
     "traceback": [
      "\u001b[0;31m---------------------------------------------------------------------------\u001b[0m",
      "\u001b[0;31mNameError\u001b[0m                                 Traceback (most recent call last)",
      "Input \u001b[0;32mIn [23]\u001b[0m, in \u001b[0;36m<cell line: 19>\u001b[0;34m()\u001b[0m\n\u001b[1;32m     16\u001b[0m dlimit \u001b[38;5;241m=\u001b[39m \u001b[38;5;241m100000e3\u001b[39m \n\u001b[1;32m     18\u001b[0m \u001b[38;5;28mprint\u001b[39m(\u001b[38;5;124m\"\u001b[39m\u001b[38;5;124m#### UNSCALED with distance ####\u001b[39m\u001b[38;5;124m\"\u001b[39m)\n\u001b[0;32m---> 19\u001b[0m SNR_mf_unscaled_hf \u001b[38;5;241m=\u001b[39m np\u001b[38;5;241m.\u001b[39mmax(np\u001b[38;5;241m.\u001b[39mabs(np\u001b[38;5;241m.\u001b[39mfft\u001b[38;5;241m.\u001b[39mfft(\u001b[43mhf_corr\u001b[49m)))\u001b[38;5;241m/\u001b[39mnp\u001b[38;5;241m.\u001b[39mmedian(np\u001b[38;5;241m.\u001b[39mabs(np\u001b[38;5;241m.\u001b[39mfft\u001b[38;5;241m.\u001b[39mfft(hf_withnoise)))\n\u001b[1;32m     20\u001b[0m SNR_mf_unscaled_vhf \u001b[38;5;241m=\u001b[39m np\u001b[38;5;241m.\u001b[39mmax(np\u001b[38;5;241m.\u001b[39mabs(np\u001b[38;5;241m.\u001b[39mfft\u001b[38;5;241m.\u001b[39mfft(vhf_corr)))\u001b[38;5;241m/\u001b[39mnp\u001b[38;5;241m.\u001b[39mmedian(np\u001b[38;5;241m.\u001b[39mabs(np\u001b[38;5;241m.\u001b[39mfft\u001b[38;5;241m.\u001b[39mfft(vhf_withnoise)))\n\u001b[1;32m     22\u001b[0m \u001b[38;5;28mprint\u001b[39m(\u001b[38;5;124m\"\u001b[39m\u001b[38;5;124mHF SNR: \u001b[39m\u001b[38;5;132;01m{:.2f}\u001b[39;00m\u001b[38;5;124m dB\u001b[39m\u001b[38;5;124m\"\u001b[39m\u001b[38;5;241m.\u001b[39mformat(\u001b[38;5;241m10\u001b[39m\u001b[38;5;241m*\u001b[39mnp\u001b[38;5;241m.\u001b[39mlog10(SNR_mf_unscaled_hf)))\n",
      "\u001b[0;31mNameError\u001b[0m: name 'hf_corr' is not defined"
     ]
    }
   ],
   "source": [
    "# Finds SNR after matched filter is applied\n",
    "# input of signal with noise, signal after cross corr. (NOT FFT)\n",
    "def SNR_mf(signal_withnoise, signal_corr, Pt, Gt, d, rcs, wavelength):\n",
    "    # find noise floor of returned signal + peak of correlated signal\n",
    "    noise_floor_variance = np.median(signal_withnoise) # centered on this\n",
    "    \n",
    "    SNR_mf = np.max(signal_corr)/noise_floor_variance\n",
    "    \n",
    "    # find the Pr/Pt scale from the radar equation\n",
    "    Pr = radar_equation(Pt, Gt, d, rcs, wavelength)\n",
    "    \n",
    "    SNR_mf *= (Pr/Pt)\n",
    "    \n",
    "    return 10*np.log10(SNR_mf)\n",
    "\n",
    "dlimit = 100000e3 \n",
    "\n",
    "print(\"#### UNSCALED with distance ####\")\n",
    "SNR_mf_unscaled_hf = np.max(np.abs(np.fft.fft(hf_corr)))/np.median(np.abs(np.fft.fft(hf_withnoise)))\n",
    "SNR_mf_unscaled_vhf = np.max(np.abs(np.fft.fft(vhf_corr)))/np.median(np.abs(np.fft.fft(vhf_withnoise)))\n",
    "\n",
    "print(\"HF SNR: {:.2f} dB\".format(10*np.log10(SNR_mf_unscaled_hf)))\n",
    "print(\"VHF SNR: {:.2f} dB\".format(10*np.log10(SNR_mf_unscaled_vhf)))\n",
    "\n",
    "print(\"#### SCALED with distance ####\")\n",
    "print(\"HF SNR: {:.2f} dB\".format(SNR_mf(np.abs(np.fft.fft(hf_withnoise)), np.abs(np.fft.fft(hf_corr)), Pt_hf, Gt_hf, dlimit, rcs_hf, hf_wavelength)))\n",
    "print(\"VHF SNR: {:.2f} dB\".format(SNR_mf(np.abs(np.fft.fft(vhf_withnoise)), np.abs(np.fft.fft(vhf_corr)), Pt_vhf, Gt_vhf, dlimit, rcs_vhf, vhf_wavelength)))"
   ]
  },
  {
   "cell_type": "markdown",
   "id": "b8e6317d",
   "metadata": {},
   "source": [
    "### Find gain from 1 pulse vs. pulses filling up round trip time\n",
    "To test how much the signal improves... (10/20/24)"
   ]
  },
  {
   "cell_type": "code",
   "execution_count": null,
   "id": "16a34cef",
   "metadata": {},
   "outputs": [],
   "source": [
    "one_pulse = radar_equation(Pt_hf, Gt_hf, 400000000, rcs_hf, hf_wavelength) # d = 1 mil km\n",
    "N_power = 3.52e-9 # W from before (converted from W/MHz/m^2)\n",
    "\n",
    "print(\"One pulse dB: {:.2f}\".format(10*np.log10(one_pulse/N_power)))\n",
    "print(\"Pulse compression gain estimated dB: {:.2f}\".format(pulse_compression_gain_hf))"
   ]
  },
  {
   "cell_type": "markdown",
   "id": "b0c7fdba",
   "metadata": {},
   "source": [
    "#### Plot number of pulses vs. maximum range\n",
    "Solve for the maximum range with each N_chirps pulse train.\n",
    "We can use the radar equation to solve for the minimum 10 dB limit for detection:\n",
    "$$\\frac{\\rm{Matched, unscaled SNR [B]}}{10 [B]} = \\frac{G_t \\sigma A_e}{16 \\pi d^4 \\times N_{galactic}}$$\n",
    "\n",
    "were we can describe $P_r$ with the radar equation, giving us the following expression for range:\n",
    "\n",
    "$$ d = \\left[\\rm{Matched, unscaled SNR} \\times \\frac{G_t \\sigma A_e}{P_{limit} \\times N_{galactic} \\times 16 \\pi^2}\\right]^{\\frac{1}{4}} $$\n"
   ]
  },
  {
   "cell_type": "code",
   "execution_count": 24,
   "id": "f2d990d1",
   "metadata": {},
   "outputs": [
    {
     "ename": "NameError",
     "evalue": "name 'SNR_mf_unscaled_hf' is not defined",
     "output_type": "error",
     "traceback": [
      "\u001b[0;31m---------------------------------------------------------------------------\u001b[0m",
      "\u001b[0;31mNameError\u001b[0m                                 Traceback (most recent call last)",
      "Input \u001b[0;32mIn [24]\u001b[0m, in \u001b[0;36m<cell line: 15>\u001b[0;34m()\u001b[0m\n\u001b[1;32m     12\u001b[0m     d \u001b[38;5;241m=\u001b[39m ((SNR_mf \u001b[38;5;241m*\u001b[39m Gt \u001b[38;5;241m*\u001b[39m rcs \u001b[38;5;241m*\u001b[39m Ae)\u001b[38;5;241m/\u001b[39m(\u001b[38;5;241m10\u001b[39m\u001b[38;5;241m*\u001b[39mN_galactic\u001b[38;5;241m*\u001b[39m\u001b[38;5;241m16\u001b[39m\u001b[38;5;241m*\u001b[39mnp\u001b[38;5;241m.\u001b[39mpi\u001b[38;5;241m*\u001b[39m\u001b[38;5;241m*\u001b[39m\u001b[38;5;241m2\u001b[39m))\u001b[38;5;241m*\u001b[39m\u001b[38;5;241m*\u001b[39m\u001b[38;5;241m0.25\u001b[39m\n\u001b[1;32m     13\u001b[0m     \u001b[38;5;28;01mreturn\u001b[39;00m d\n\u001b[0;32m---> 15\u001b[0m HF_pulsetrain_max_range \u001b[38;5;241m=\u001b[39m range_pt(\u001b[38;5;241m10\u001b[39m, \u001b[38;5;241m10\u001b[39m\u001b[38;5;241m*\u001b[39mnp\u001b[38;5;241m.\u001b[39mlog10(\u001b[43mSNR_mf_unscaled_hf\u001b[49m), Gt_hf, rcs_hf, hf_wavelength)\n\u001b[1;32m     16\u001b[0m HF_pulsetrain_max_range \u001b[38;5;241m=\u001b[39m range_pt(\u001b[38;5;241m10\u001b[39m, SNR_mf_unscaled_hf, Gt_hf, rcs_hf, hf_wavelength)\n\u001b[1;32m     17\u001b[0m \u001b[38;5;28mprint\u001b[39m(HF_pulsetrain_max_range)\n",
      "\u001b[0;31mNameError\u001b[0m: name 'SNR_mf_unscaled_hf' is not defined"
     ]
    }
   ],
   "source": [
    "'''\n",
    "INPUT: minimum range\n",
    "OUTPUT: number of pulses needed\n",
    "\n",
    "dlimit = minimum range that Clipper is at (e.g. 100,000 km) (in m)\n",
    "\n",
    "We need SNR (Pr/N) of 10 dB @ 100,000 km\n",
    "'''\n",
    "# Plimit, SNR_mf in dB!!!\n",
    "def range_pt(Plimit, SNR_mf, Gt, rcs, wavelength):\n",
    "    Ae = (Gt*wavelength**2)/(4*np.pi)\n",
    "    d = ((SNR_mf * Gt * rcs * Ae)/(10*N_galactic*16*np.pi**2))**0.25\n",
    "    return d\n",
    "\n",
    "HF_pulsetrain_max_range = range_pt(10, 10*np.log10(SNR_mf_unscaled_hf), Gt_hf, rcs_hf, hf_wavelength)\n",
    "HF_pulsetrain_max_range = range_pt(10, SNR_mf_unscaled_hf, Gt_hf, rcs_hf, hf_wavelength)\n",
    "print(HF_pulsetrain_max_range)"
   ]
  },
  {
   "cell_type": "code",
   "execution_count": 26,
   "id": "a3ad815f",
   "metadata": {},
   "outputs": [
    {
     "name": "stdout",
     "output_type": "stream",
     "text": [
      "1\n",
      "2\n",
      "3\n",
      "4\n",
      "5\n",
      "6\n",
      "7\n",
      "8\n",
      "9\n",
      "10\n",
      "11\n",
      "12\n",
      "13\n",
      "14\n",
      "15\n",
      "16\n",
      "17\n",
      "18\n",
      "19\n",
      "20\n",
      "21\n",
      "22\n",
      "23\n",
      "24\n",
      "25\n",
      "26\n",
      "27\n",
      "28\n",
      "29\n",
      "30\n",
      "31\n",
      "32\n",
      "33\n",
      "34\n",
      "35\n",
      "36\n",
      "37\n",
      "38\n",
      "39\n",
      "40\n",
      "41\n",
      "42\n",
      "43\n",
      "44\n",
      "45\n",
      "46\n",
      "47\n",
      "48\n",
      "49\n",
      "50\n",
      "51\n",
      "52\n",
      "53\n",
      "54\n",
      "55\n",
      "56\n",
      "57\n",
      "58\n",
      "59\n",
      "60\n",
      "61\n",
      "62\n",
      "63\n",
      "64\n",
      "65\n",
      "66\n",
      "67\n",
      "68\n",
      "69\n",
      "70\n",
      "71\n",
      "72\n",
      "73\n",
      "74\n",
      "75\n",
      "76\n",
      "77\n",
      "78\n",
      "79\n",
      "80\n",
      "81\n",
      "82\n",
      "83\n",
      "84\n",
      "85\n",
      "86\n",
      "87\n",
      "88\n",
      "89\n",
      "90\n",
      "91\n",
      "92\n",
      "93\n",
      "94\n",
      "95\n",
      "96\n",
      "97\n",
      "98\n",
      "99\n",
      "100\n"
     ]
    }
   ],
   "source": [
    "N_chirps_array = np.arange(1,101,1) #1,101,1\n",
    "#N_chirps_array = [200]\n",
    "\n",
    "HF_pulsetrain_res = np.array([])\n",
    "VHF_pulsetrain_res = np.array([])\n",
    "for Niterator in N_chirps_array:\n",
    "    print(Niterator)\n",
    "    #### TRANSMITTED SIGNAL\n",
    "    hf_times, hf_transmit = hf_chirp(Niterator)\n",
    "    vhf_times, vhf_transmit = vhf_chirp(Niterator)\n",
    "    \n",
    "    #### ADD NOISE\n",
    "    hf_withnoise = hf_transmit + np.random.normal(loc=N_galactic, size=len(hf_times)) # White Gaussian noise\n",
    "    vhf_withnoise = vhf_transmit + np.random.normal(loc=N_galactic, size=len(vhf_times))\n",
    "\n",
    "    # Create the matched filter\n",
    "    hf_matchedfilter = hf_transmit\n",
    "    vhf_matchedfilter = vhf_transmit\n",
    "\n",
    "    # Calculate matched filter == fft(signal)*fft(filter) conjugate\n",
    "    hf_corr = np.fft.fftshift(np.fft.ifft(np.fft.fft(hf_withnoise)*np.conj(np.fft.fft(hf_matchedfilter))))\n",
    "    vhf_corr = np.fft.fftshift(np.fft.ifft(np.fft.fft(vhf_withnoise)*np.conj(np.fft.fft(vhf_matchedfilter))))\n",
    "\n",
    "    # create frequencies for FFT\n",
    "    hf_freq = np.fft.fftfreq(len(hf_times), d=hf_times[1]-hf_times[0])\n",
    "    vhf_freq = np.fft.fftfreq(len(vhf_times), d=vhf_times[1]-vhf_times[0])\n",
    "\n",
    "    #### FIND MAX. RANGE FOR EVERY N CHIRPS\n",
    "    # Find unscaled SNR\n",
    "    SNR_mf_unscaled_hf = np.max(np.abs(np.fft.fft(hf_corr)))/np.median(np.abs(np.fft.fft(hf_withnoise)))\n",
    "    SNR_mf_unscaled_vhf = np.max(np.abs(np.fft.fft(vhf_corr)))/np.median(np.abs(np.fft.fft(vhf_withnoise)))\n",
    "    \n",
    "    # We can set P_required with the equation above (in dB)\n",
    "    #print(\"SNR matched unscaled HF (in db):\" + str(10*np.log10(SNR_mf_unscaled_hf)))\n",
    "    #print(\"SNR matched unscaled VHF (in db):\" + str(10*np.log10(SNR_mf_unscaled_vhf)))\n",
    "    \n",
    "    # solve for the maximum range\n",
    "    HF_pulsetrain_max_range = range_pt(10, SNR_mf_unscaled_hf, Gt_hf, rcs_hf, hf_wavelength)\n",
    "    #print(\"Max. range HF: {:e}\".format(HF_pulsetrain_max_range))\n",
    "    HF_pulsetrain_res = np.append(HF_pulsetrain_res, HF_pulsetrain_max_range)\n",
    "    \n",
    "    VHF_pulsetrain_max_range = range_pt(10, SNR_mf_unscaled_vhf, Gt_vhf, rcs_vhf, vhf_wavelength)\n",
    "    #print(\"Max. range VHF: {:e}\".format(VHF_pulsetrain_max_range))\n",
    "    VHF_pulsetrain_res = np.append(VHF_pulsetrain_res, VHF_pulsetrain_max_range)\n",
    "    "
   ]
  },
  {
   "cell_type": "code",
   "execution_count": 46,
   "id": "96dcace5",
   "metadata": {},
   "outputs": [
    {
     "data": {
      "image/png": "[encoded data removed]",
      "text/plain": [
       "<Figure size 800x400 with 2 Axes>"
      ]
     },
     "metadata": {},
     "output_type": "display_data"
    },
    {
     "name": "stdout",
     "output_type": "stream",
     "text": [
      "#### 1st pulse ####\n",
      "HF: 241498.95906138103\n",
      "VHF: 170354.72492198567\n",
      "#### Min for 100,000 km ####\n",
      "HF: 9\n",
      "VHF: 24\n"
     ]
    },
    {
     "ename": "NameError",
     "evalue": "name 'STOP' is not defined",
     "output_type": "error",
     "traceback": [
      "\u001b[0;31m---------------------------------------------------------------------------\u001b[0m",
      "\u001b[0;31mNameError\u001b[0m                                 Traceback (most recent call last)",
      "Input \u001b[0;32mIn [46]\u001b[0m, in \u001b[0;36m<cell line: 46>\u001b[0;34m()\u001b[0m\n\u001b[1;32m     43\u001b[0m \u001b[38;5;28mprint\u001b[39m(\u001b[38;5;124m\"\u001b[39m\u001b[38;5;124mHF: \u001b[39m\u001b[38;5;124m\"\u001b[39m \u001b[38;5;241m+\u001b[39m \u001b[38;5;28mstr\u001b[39m(min_hf))\n\u001b[1;32m     44\u001b[0m \u001b[38;5;28mprint\u001b[39m(\u001b[38;5;124m\"\u001b[39m\u001b[38;5;124mVHF: \u001b[39m\u001b[38;5;124m\"\u001b[39m \u001b[38;5;241m+\u001b[39m \u001b[38;5;28mstr\u001b[39m(min_vhf))\n\u001b[0;32m---> 46\u001b[0m \u001b[43mSTOP\u001b[49m\n",
      "\u001b[0;31mNameError\u001b[0m: name 'STOP' is not defined"
     ]
    }
   ],
   "source": [
    "#### PLOT RESULTS ####\n",
    "plt.style.use(['science'])\n",
    "fig, ax = plt.subplots(1, 2, figsize=(8,4))\n",
    "ax[0].scatter(N_chirps_array, HF_pulsetrain_res/1e3, color='black',s=15)\n",
    "ax[1].scatter(N_chirps_array, VHF_pulsetrain_res/1e3, color='black',s=15)\n",
    "ax[0].set_title('$\\\\bf{HF~detectable~range}$', fontsize=14)\n",
    "ax[1].set_title(\"$\\\\bf{VHF~detectable~range}$\", fontsize=14)\n",
    "\n",
    "for axes in ax.reshape(-1):\n",
    "    axes.set_xlabel('Number of summed pulses', fontsize=16)\n",
    "    axes.set_ylabel('Maximum range (km)', fontsize=16)\n",
    "    axes.grid(True, alpha=0.2)\n",
    "    axes.locator_params(axis='x', nbins=5)\n",
    "    axes.locator_params(axis='y', nbins=5)\n",
    "    axes.axhline(40e3, ls='--', color='maroon', lw=2)\n",
    "    axes.axhline(100e3, ls='--', color='maroon', lw=2)\n",
    "    #axes.ticklabel_format(axis='y', style='sci')\n",
    "    #axes.yaxis.major.formatter.set_powerlimits((0,0))\n",
    "    \n",
    "    formatter = mticker.ScalarFormatter(useMathText=True)\n",
    "    formatter.set_powerlimits((-3,2))\n",
    "    axes.yaxis.set_major_formatter(formatter)\n",
    "    axes.tick_params(axis='both', which='major', labelsize=15)\n",
    "    tx = axes.yaxis.get_offset_text()\n",
    "    tx.set_fontsize(13)\n",
    "ax[0].text(67.5, 45e3, \"40,000 km\", color='maroon', fontsize=16)\n",
    "ax[1].text(67.5, 43.5e3, \"40,000 km\", color='maroon', fontsize=16)\n",
    "ax[0].text(63.5, 105e3, \"100,000 km\", color='maroon', fontsize=16)\n",
    "ax[1].text(63.5, 103.5e3, \"100,000 km\", color='maroon', fontsize=16)\n",
    "\n",
    "#fig.suptitle(\"Maximum range and coherently summed pulses\", fontsize=17, fontweight='bold')\n",
    "fig.tight_layout()\n",
    "plt.show()\n",
    "fig.savefig(\"figs/max-range-title.pdf\")\n",
    "\n",
    "print(\"#### 1st pulse ####\")\n",
    "print(\"HF: \" + str(HF_pulsetrain_res[-1]/1e3))\n",
    "print(\"VHF: \" + str(VHF_pulsetrain_res[-1]/1e3))\n",
    "\n",
    "print(\"#### Min for 100,000 km ####\")\n",
    "min_hf = N_chirps_array[np.argmin(np.abs(HF_pulsetrain_res - 100000e3))]\n",
    "min_vhf = N_chirps_array[np.argmin(np.abs(VHF_pulsetrain_res - 100000e3))]\n",
    "print(\"HF: \" + str(min_hf))\n",
    "print(\"VHF: \" + str(min_vhf))\n",
    "\n",
    "STOP"
   ]
  },
  {
   "cell_type": "markdown",
   "id": "61d18828",
   "metadata": {},
   "source": [
    "## Doppler resolution -- multiple pulses\n",
    "We can define the sampling rate with Nyquist's theorem to be twice the Doppler resolution in frequency. We can then convert our result to velocity resolution using $\\Delta v = \\Delta f_d \\lambda / 2$, which represents the accuracy in determining the radial velocity of Europa."
   ]
  },
  {
   "cell_type": "code",
   "execution_count": null,
   "id": "cc37f091",
   "metadata": {},
   "outputs": [],
   "source": [
    "def simple_velocity(range_1, range_2):\n",
    "    time_dif = 1/3000 # 1/PRF\n",
    "    return (range_2 - range_1) / time_dif"
   ]
  },
  {
   "cell_type": "code",
   "execution_count": null,
   "id": "5ee4772c",
   "metadata": {},
   "outputs": [],
   "source": [
    "HF_pulsetrain_res = np.array([])\n",
    "VHF_pulsetrain_res = np.array([])\n",
    "\n",
    "hf_freq = 9e6 #Hz\n",
    "vhf_freq = 60e6\n",
    "v = 3700 #m/s for now?\n",
    "\n",
    "distances = np.linspace(100e3*1e3, 500e3*1e3, 100) #m\n",
    "\n",
    "#### VHF ####\n",
    "vhf_vel_res = np.array([])\n",
    "for d in distances:\n",
    "    Niterator = round((2*d/c)/vhf_pulse_length) # divide by pulse length\n",
    "    # for 100,000 km -- 1333 pulses for HF, 1130 pulses for VHF\n",
    "    print(\"Pulse count: \" + str(Niterator))\n",
    "    sampling_length = Niterator*vhf_pulse_length # s -- multiply by total observed time\n",
    "\n",
    "    # doppler freq \n",
    "    f_d = 2*vhf_freq*v/c\n",
    "    print(\"Doppler frequency: {0:.2f} Hz\".format(f_d))\n",
    "\n",
    "    # check if nyquist is satisfied on doppler freq\n",
    "    nyquist_satisfied = bool(3000 >= 2*f_d)\n",
    "    print(\"Nyquist satisfied (PRF >= 2x Doppler freq.)? -- \" + str(nyquist_satisfied))\n",
    "\n",
    "    # doppler res = 1/total pulse (aka sampling length -- post summing)\n",
    "    print(\"Sampling length: {0:.6f} s\".format(sampling_length))\n",
    "    doppler_res = 1/sampling_length # Hz\n",
    "    print(\"Doppler resolution (1/total observed time): {0:.2f} Hz\".format(doppler_res))\n",
    "\n",
    "    #v = f*wavelength/2\n",
    "    v_res = doppler_res*vhf_wavelength/2 #m/s\n",
    "    print(\"Velocity measurements: {0:.2f} m/s\".format(v_res))\n",
    "    \n",
    "    vhf_vel_res = np.append(vhf_vel_res, v_res)\n",
    "    \n",
    "#### HF ####\n",
    "hf_vel_res = np.array([])\n",
    "for d in distances:\n",
    "    Niterator = round((2*d/c)/hf_pulse_length) # divide by pulse length\n",
    "    sampling_length = Niterator*hf_pulse_length # s -- multiply by total observed time\n",
    "    f_d = 2*hf_freq*v/c\n",
    "    nyquist_satisfied = bool(3000 >= 2*f_d)\n",
    "    doppler_res = 1/sampling_length # Hz\n",
    "    v_res = doppler_res*hf_wavelength/2 #m/s\n",
    "    hf_vel_res = np.append(hf_vel_res, v_res)"
   ]
  },
  {
   "cell_type": "code",
   "execution_count": null,
   "id": "d75a98c5",
   "metadata": {},
   "outputs": [],
   "source": [
    "#### PLOT RESULTS ####\n",
    "fig, ax = plt.subplots(1, 2, figsize=(10,4))\n",
    "ax[0].scatter(distances/1e3, hf_vel_res, color='#4a1029')\n",
    "ax[1].scatter(distances/1e3, vhf_vel_res, color='#4a1029')\n",
    "ax[0].set_title(\"HF\", fontsize=12)\n",
    "ax[1].set_title(\"VHF\", fontsize=12)\n",
    "\n",
    "for axes in ax.reshape(-1):\n",
    "    axes.set_xlabel('Altitude (km)', fontsize=12)\n",
    "    axes.set_ylabel('Velocity resolution (m/s)', fontsize=12)\n",
    "    axes.grid(True)\n",
    "    axes.locator_params(axis='x', nbins=7)\n",
    "    axes.locator_params(axis='y', nbins=7)\n",
    "    #axes.xaxis.set_major_formatter(mticker.FormatStrFormatter('%.2e'))\n",
    "    #axes.set_ylim((0, 5))\n",
    "\n",
    "fig.tight_layout()\n",
    "plt.show()\n",
    "plt.savefig(\"maxrange.pdf\")"
   ]
  },
  {
   "cell_type": "code",
   "execution_count": null,
   "id": "849fbf82",
   "metadata": {},
   "outputs": [],
   "source": []
  }
 ],
 "metadata": {
  "kernelspec": {
   "display_name": "Python [conda env:jwst] *",
   "language": "python",
   "name": "conda-env-jwst-py"
  },
  "language_info": {
   "codemirror_mode": {
    "name": "ipython",
    "version": 3
   },
   "file_extension": ".py",
   "mimetype": "text/x-python",
   "name": "python",
   "nbconvert_exporter": "python",
   "pygments_lexer": "ipython3",
   "version": "3.9.13"
  }
 },
 "nbformat": 4,
 "nbformat_minor": 5
}
