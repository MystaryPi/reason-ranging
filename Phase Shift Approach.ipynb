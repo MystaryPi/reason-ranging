{
 "cells": [
  {
   "cell_type": "markdown",
   "id": "8c705e14",
   "metadata": {},
   "source": [
    "# Phase Shift Approach - Velocity Measurements\n",
    "\n",
    "Castelletti et al. searches for the correct slope of a surface by sweeping ranges/velocities and finding the correct phase correction by maximizing post-summed SNR. Here, we can employ a similar methodology but to find the correct spacecraft velocity.\n",
    "\n",
    "- Surface echoes from Europa for ranging measurements will arrive later as the spacecraft moves away from the moon. \n",
    "- We can sum the received signals, each shifted with a phase correction $\\Delta \\phi$, to maximize post-summed SNR.\n",
    "- We sweep ranging measurements to seek the correct velocities. \n",
    "\n",
    "This is advantageous because (i) velocity measurements can occur alongside ranging, without previous constraints from Doppler frequency; (ii) aliased results can be eliminated by comparing with Clipper's orbital properties in SPICE; and (iii) uncertainties in range and velocity can be found, across the parameter space."
   ]
  },
  {
   "cell_type": "code",
   "execution_count": 1,
   "id": "188d7569",
   "metadata": {},
   "outputs": [],
   "source": [
    "import numpy as np\n",
    "import matplotlib.pyplot as plt\n",
    "import scipy\n",
    "import matplotlib.ticker as mticker\n",
    "import math\n",
    "from matplotlib.ticker import FormatStrFormatter\n",
    "import matplotlib.patheffects as path_effects\n",
    "from scipy.signal import find_peaks\n",
    "from scipy.ndimage import label, find_objects\n",
    "import scienceplots\n",
    "from scipy.optimize import curve_fit "
   ]
  },
  {
   "cell_type": "code",
   "execution_count": 2,
   "id": "4df2c929",
   "metadata": {},
   "outputs": [
    {
     "name": "stdout",
     "output_type": "stream",
     "text": [
      "Galactic noise (power): 3.5153484038226244e-15 W\n"
     ]
    }
   ],
   "source": [
    "# REASON parameters\n",
    "Pt = 10 # W\n",
    "Gt = 10**(6/10) # 6 dB -> B\n",
    "c = 2.998e8 # m/s\n",
    "rcs = 2.5e10 # for HF, but we can assume for both\n",
    "\n",
    "hf_wavelength = c/(9e6) # m\n",
    "vhf_wavelength = c/(60e6) # m\n",
    "\n",
    "# Set parameters\n",
    "hf_pulse_length = 200e-6 # s\n",
    "hf_repetition_freq = 3000 # Hz\n",
    "hf_bandwidth = 1e6 # Hz\n",
    "hf_s = hf_bandwidth/hf_pulse_length # chirp slope, Hz/s\n",
    "hf_fc = 0 # Hz #9e6 is true value, assume 0 because the hardware downconverts to baseband\n",
    "\n",
    "vhf_pulse_length = 236e-6 # s\n",
    "vhf_repetition_freq = 3000 # Hz\n",
    "vhf_bandwidth = 10e6 # Hz\n",
    "vhf_s = vhf_bandwidth/vhf_pulse_length # chirp slope, Hz/s\n",
    "vhf_fc = 60e6 # Hz\n",
    "\n",
    "# sampling freqs\n",
    "# 2x complex-valued baseband sampling rate\n",
    "hf_fs = 2.4e6 \n",
    "vhf_fs = 24e6\n",
    "\n",
    "# noise power + effective area\n",
    "hf_Ae = (Gt*hf_wavelength**2)/(4*np.pi)\n",
    "N_galactic = 10**-17 # W/mhz/m^2\n",
    "N_power = N_galactic * (hf_bandwidth/1e6) * hf_Ae # W\n",
    "print(\"Galactic noise (power): {} W\".format(N_power))"
   ]
  },
  {
   "cell_type": "code",
   "execution_count": 3,
   "id": "31574318",
   "metadata": {},
   "outputs": [],
   "source": [
    "def radar_equation(Pt, Gt, d, rcs, wavelength):\n",
    "    # From the gain, determine the effective area of REASON\n",
    "    Ae = (Gt*wavelength**2)/(4*np.pi)\n",
    "    \n",
    "    return ((Pt*Gt)/(4*np.pi*d**2))*((rcs*Ae)/(4*np.pi*d**2)) # return power received"
   ]
  },
  {
   "cell_type": "code",
   "execution_count": 4,
   "id": "fb376a37",
   "metadata": {},
   "outputs": [],
   "source": [
    "def chirp(s, tau, fs, fc, start, n, phase_shift):\n",
    "    # s: slope\n",
    "    # tau: pulse length\n",
    "    # fs: sample rate\n",
    "    # fc: center frequency\n",
    "    # start: starting index of chirp\n",
    "    # n: the length of the chirp including zero\n",
    "\n",
    "    dt = 1 / fs\n",
    "    npts = int(tau * fs)\n",
    "    t = np.arange(-npts/2, npts/2) * dt\n",
    "    phase = np.pi * s * t**2 + 2 * np.pi * fc * t + phase_shift\n",
    "    chirp = np.zeros(n, dtype = np.complex_)\n",
    "    chirp[start:len(phase)+start] = np.exp(1j * phase) # nonzero portion\n",
    "\n",
    "    return chirp"
   ]
  },
  {
   "cell_type": "code",
   "execution_count": 5,
   "id": "1169e767",
   "metadata": {},
   "outputs": [],
   "source": [
    "# Define the Gaussian function\n",
    "def gaussian(x, amplitude, mean, stddev):\n",
    "    return amplitude * np.exp(-((x - mean) / stddev)**2 / 2)"
   ]
  },
  {
   "cell_type": "code",
   "execution_count": 6,
   "id": "cefb8992",
   "metadata": {},
   "outputs": [],
   "source": [
    "from tqdm import tqdm\n",
    "\n",
    "# Modelling ranging measurements for various ranges\n",
    "def ranging_per_v(start_alt, end_time, vset):\n",
    "    sampling_rate_m = vset/hf_repetition_freq # in meters\n",
    "    range_array = np.arange(start_alt, start_alt + end_time*vset, sampling_rate_m)\n",
    "    \n",
    "    t = np.arange(0, end_time, 1/hf_fs) # time at the sampling frequency\n",
    "    output_signal = np.zeros(len(t), dtype=np.complex_) # stores multiple pulses\n",
    "    \n",
    "    # ONE CHIRP\n",
    "    #print(int((1/hf_repetition_freq)*hf_fs)) # 800\n",
    "    chirpsig = chirp(hf_s, hf_pulse_length, hf_fs, hf_fc, 1, int((1/hf_repetition_freq)*hf_fs), 0)\n",
    "    \n",
    "    # iterate through chirps (using pulse_number) until total_pulses\n",
    "    total_pulses = int(end_time / (1/hf_repetition_freq)) # total number of pulses\n",
    "    pulse_number = 0\n",
    "    while pulse_number < total_pulses:\n",
    "        # if the chirp is cut off at the end of the time period\n",
    "        if pulse_number * (1/hf_repetition_freq) > end_time:\n",
    "            continue\n",
    "        \n",
    "        # signal spreads out 1/16 pi d^4\n",
    "        Pr = radar_equation(Pt, Gt, range_array[pulse_number], rcs, hf_wavelength)\n",
    "        \n",
    "        start_index = math.ceil(pulse_number * (1/hf_repetition_freq) * hf_fs) # round up to pulse number\n",
    "        \n",
    "        # multiply by pulse indices for chirp function above\n",
    "        output_signal[start_index:start_index+len(chirpsig)] = chirpsig*(np.sqrt(Pr)/np.sqrt(Pt)) \n",
    "        #decrease amplitude by ratio of sqrt(power received)/sqrt(power transmitted)\n",
    "        # in units of AMPLITUDE\n",
    "        \n",
    "        pulse_number += 1 # go on to next pulse\n",
    "\n",
    "    # keep first Pr so that we can convert to power later\n",
    "    first_Pr = radar_equation(Pt, Gt, range_array[0], rcs, hf_wavelength)\n",
    "    return output_signal, total_pulses, first_Pr "
   ]
  },
  {
   "cell_type": "markdown",
   "id": "272f60c9",
   "metadata": {},
   "source": [
    "## Single pulse SNR\n",
    "For longest pulse, single pulse SNR with radar equation:"
   ]
  },
  {
   "cell_type": "code",
   "execution_count": 7,
   "id": "3c042bd4",
   "metadata": {},
   "outputs": [
    {
     "name": "stdout",
     "output_type": "stream",
     "text": [
      "SNR: -36.09\n"
     ]
    }
   ],
   "source": [
    "d = 40000*1e3 # m\n",
    "Pr = radar_equation(Pt, Gt, d, rcs, hf_wavelength)\n",
    "SNR_singlepulse = 10*np.log10(Pr/N_power)\n",
    "print(\"SNR: {:.2f}\".format(SNR_singlepulse))"
   ]
  },
  {
   "cell_type": "markdown",
   "id": "c9cde19b",
   "metadata": {},
   "source": [
    "## Pulse Train"
   ]
  },
  {
   "cell_type": "code",
   "execution_count": 8,
   "id": "8ca70cb8",
   "metadata": {},
   "outputs": [
    {
     "name": "stdout",
     "output_type": "stream",
     "text": [
      "Pulse count: 800\n",
      "Uncompressed P_r/N (power): -226.71 dB\n"
     ]
    },
    {
     "name": "stderr",
     "output_type": "stream",
     "text": [
      "/Users/michpark/opt/anaconda3/envs/jwst/lib/python3.9/site-packages/matplotlib/cbook.py:1699: ComplexWarning: Casting complex values to real discards the imaginary part\n",
      "  return math.isfinite(val)\n",
      "/Users/michpark/opt/anaconda3/envs/jwst/lib/python3.9/site-packages/matplotlib/cbook.py:1345: ComplexWarning: Casting complex values to real discards the imaginary part\n",
      "  return np.asarray(x, float)\n"
     ]
    },
    {
     "data": {
      "text/plain": [
       "(66666.66666666667, 67000.0)"
      ]
     },
     "execution_count": 8,
     "metadata": {},
     "output_type": "execute_result"
    },
    {
     "data": {
      "image/png": "[encoded data removed]",
      "text/plain": [
       "<Figure size 500x500 with 1 Axes>"
      ]
     },
     "metadata": {},
     "output_type": "display_data"
    }
   ],
   "source": [
    "# set up range array\n",
    "start_alt = d # m\n",
    "end_time = 2*start_alt/c #s\n",
    "vtrue = 4e3 #m/s\n",
    "  \n",
    "res, pulse_count, Pr = ranging_per_v(start_alt, end_time, vtrue) # assume 4 km/s\n",
    "noise_power = np.random.normal(loc=N_power, size=len(res)) # in units of amplitude (sqrt(W))\n",
    "\n",
    "print(\"Pulse count: {}\".format(pulse_count))\n",
    "\n",
    "print(\"Uncompressed P_r/N (power): {:.2f} dB\".format(10*np.log10(np.max(np.abs(Pr*res**2))/N_power)))\n",
    "\n",
    "# Times for pulse train\n",
    "times = np.linspace(0, end_time, len(res)) \n",
    "# final time = number of pulses * repetition freq\n",
    "\n",
    "# Plot figure\n",
    "plt.style.use(['science', 'notebook'])\n",
    "\n",
    "fig, ax = plt.subplots(figsize=(5,5))\n",
    "#plt.plot(times/(1e-6), Pr*res**2 + noise_power, c='gray', label='With noise')\n",
    "plt.plot(times/(1e-6), Pr*res**2, c='maroon')\n",
    "plt.title(\"HF chirp pulse train \\nfrom {:,} to {:,} km\".format(start_alt/1e3, (start_alt + end_time*vtrue)/1e3), fontsize=12)\n",
    "plt.xlabel(r\"Time ($\\mu$ s)\", fontsize=12)\n",
    "plt.ylabel(\"Power (W)\", fontsize = 12)\n",
    "plt.xlim((200*(1/hf_repetition_freq) / 1e-6, 201*(1/hf_repetition_freq) / 1e-6))"
   ]
  },
  {
   "cell_type": "markdown",
   "id": "7363d187",
   "metadata": {},
   "source": [
    "### 3) Pulse compress + estimate the phase correction + SNR\n",
    "For each surface echoes series, implement pulse compression. Use the maxima of each compressed pulse to estimate the slope of the straight line that travels through, which will be the phase correction. \n",
    "Find the final summed, phase-corrected pulse to gather the SNR (power received / noise). \n",
    "\n",
    "\n",
    "Hmmm... should i be finding or guessing the phase correction? wouldnt we always be maxing out the snr each time?"
   ]
  },
  {
   "cell_type": "code",
   "execution_count": 9,
   "id": "29c212ee",
   "metadata": {
    "scrolled": true
   },
   "outputs": [],
   "source": [
    "# input: res array with pulse train (chirps), estimated phase correction\n",
    "# output: SNR\n",
    "def get_SNR(res, noise, pulse_count, vtrue, vtest, dtrue):\n",
    "    # matched filter is res (no noise), add noise to get the signal\n",
    "    # matched filter == fft(signal)*fft(filter) conjugate\n",
    "    if noise != 0: N = np.random.normal(loc=noise, size=len(res)) # create random Gaussian noise\n",
    "    else: N = np.zeros(len(res), dtype=np.complex_) # else, no noise\n",
    "    \n",
    "    # apply matched filter to the noisy signal\n",
    "    corr = np.fft.fftshift(np.fft.ifft(np.fft.fft(res + N)*np.conj(np.fft.fft(res))))\n",
    "    \n",
    "    # find the peaks for each compressed pulse, separated by repetition frequency indexes\n",
    "    peaks, _ = find_peaks(corr, distance=(1/hf_repetition_freq)*hf_fs)\n",
    "\n",
    "    final_signal = np.zeros(int((1/hf_repetition_freq)*hf_fs), dtype=np.complex_)\n",
    "    \n",
    "    # create array of distance guesses based on pulse size\n",
    "    time_halfwidth = ((1/hf_repetition_freq))/2\n",
    "    distance_halfwidth = time_halfwidth*c # corresponds to which \"dx\" in range guesses\n",
    "    dguesses = np.linspace(dtrue - distance_halfwidth, dtrue + distance_halfwidth, len(final_signal))\n",
    "    # ARRAY OF RANGE GUESSES\n",
    "    \n",
    "    # FOR GUESSED VELOCITY \n",
    "    # Apply phase correction (for each pulse number), from dif between true + guess velocity\n",
    "    vshift = vtest - vtrue \n",
    "    \n",
    "    # ID the indices labelling the starts + ends of each pulse \n",
    "    starts = peaks-int((1/hf_repetition_freq)*hf_fs*0.5)\n",
    "    ends = peaks+int((1/hf_repetition_freq)*hf_fs*0.5)\n",
    "    \n",
    "    phase_corrections = np.array([]) # stores phase corrections for each pulse number\n",
    "    \n",
    "    # Create a mask for valid indices -- removes if pulse is truncated\n",
    "    valid_mask = (starts >= 0) & ((ends - starts) == len(final_signal)) & (ends <= len(corr))\n",
    "    starts = starts[valid_mask] # apply filter to starts\n",
    "\n",
    "    # Calculate phase shifts\n",
    "    multiplier = np.arange(0, len(starts), 1)\n",
    "    index_per_pulse = int((1/hf_repetition_freq)*hf_fs)\n",
    "\n",
    "    # determines how many indices we should shift over\n",
    "    t = (multiplier * (1/hf_fs))/(1/hf_repetition_freq) # fraction of time \n",
    "    phaseshift = ((((2*np.pi*np.abs(vshift)*t/hf_wavelength) % (2*np.pi)) / (2*np.pi))) * len(final_signal)\n",
    "    phase_corrections = phaseshift.astype(int) # convert to ints\n",
    "\n",
    "    # Extract the pulse data (filtered!)\n",
    "    #all_indices = np.transpose(np.array([starts, ends]))\n",
    "    all_pulses = np.array([],dtype=np.complex_)\n",
    "    all_pulses = np.vstack([corr[start:start + len(final_signal)] for start in starts])\n",
    "\n",
    "    ## PHASE SHIFTS!!! ##\n",
    "    for i, shift in enumerate(phase_corrections):\n",
    "        if vshift < 0: # moving further out from europa\n",
    "            # pad with zeroes to the LEFT as we shift RIGHT \n",
    "            # place to the right\n",
    "            final_signal[np.abs(shift):] += all_pulses[i][:len(final_signal)-np.abs(shift)]\n",
    "        else: # moving closer to europa\n",
    "            # move pulse back, pad with zeroes on right as we shift LEFT\n",
    "            # place to the LEFT\n",
    "            final_signal[0:len(all_pulses[i][shift:])] += all_pulses[i][shift:]\n",
    "\n",
    "    #### PLOT THE PHASE SHIFTED PULSE?\n",
    "    '''\n",
    "    pulse_times = np.arange(0, (1/hf_repetition_freq), 1/hf_fs)\n",
    "    norm = 3.234070710045566e-28\n",
    "    if vtest == 4e3:\n",
    "        plt.plot(pulse_times/(1e-6), np.real(final_signal)/norm, label='{:.2f}'.format((vtest-vtrue)), color='black', zorder=1)\n",
    "    else:\n",
    "        plt.plot(pulse_times/(1e-6), np.real(final_signal)/norm, label='{:.2f}'.format((vtest-vtrue)), alpha=0.8, zorder=10)\n",
    "    \n",
    "    plt.xlabel(\"Times (microseconds)\")\n",
    "    plt.ylabel(\"Normalized amplitude\")\n",
    "\n",
    "    #plt.title(r'Final Summed Pulse: $v_{{\\rm{{guess}}}}$ = {0} km/s'.format(vtest/1e3), fontsize=12)\n",
    "    #plt.title(r'Final Summed Pulse - Many Velocity Guesses', fontsize=12)\n",
    "    plt.legend(title=r'$\\Delta v$ (m/s)')\n",
    "    plt.xlim((145, 190))\n",
    "    '''\n",
    "    \n",
    "    # Instead of sweeping many amplitudes, we can just return the final signal\n",
    "    # which represents dguess vs. amplitude \n",
    "    return dguesses, final_signal"
   ]
  },
  {
   "cell_type": "code",
   "execution_count": 10,
   "id": "f867615d",
   "metadata": {},
   "outputs": [],
   "source": [
    "def find_gaussian_fit(x, y):\n",
    "    # Fit the Gaussian to the data\n",
    "    initial_guess = [np.max(y), np.mean(x), (np.max(x)-np.min(x))/10]\n",
    "    \n",
    "    popt, pcov = curve_fit(gaussian, x, y, p0=initial_guess, maxfev=10000) \n",
    "    # extract parameters to describe Gaussian\n",
    "    \n",
    "    amplitude, mean, stddev = popt\n",
    "\n",
    "    # get the gaussian params\n",
    "    x_fit = np.linspace(np.min(x), np.max(x), 1000)\n",
    "    y_fit = gaussian(x_fit, *popt)\n",
    "    \n",
    "    return x_fit, y_fit, stddev"
   ]
  },
  {
   "cell_type": "markdown",
   "id": "4ded3c51",
   "metadata": {},
   "source": [
    "Now get the SNR for our range guesses, though with a set guessed velocity. Fit with a Gaussian from function above."
   ]
  },
  {
   "cell_type": "code",
   "execution_count": 11,
   "id": "63bd34ce",
   "metadata": {
    "scrolled": true
   },
   "outputs": [
    {
     "name": "stdout",
     "output_type": "stream",
     "text": [
      "Pulse count: 3000\n",
      "Standard deviation: 144.64219\n"
     ]
    },
    {
     "name": "stderr",
     "output_type": "stream",
     "text": [
      "/Users/michpark/opt/anaconda3/envs/jwst/lib/python3.9/site-packages/scipy/signal/_peak_finding.py:266: ComplexWarning: Casting complex values to real discards the imaginary part\n",
      "  value = np.asarray(value, order='C', dtype=np.float64)\n"
     ]
    },
    {
     "data": {
      "text/plain": [
       "<matplotlib.legend.Legend at 0x14cde2dc0>"
      ]
     },
     "execution_count": 11,
     "metadata": {},
     "output_type": "execute_result"
    },
    {
     "data": {
      "image/png": "[encoded data removed]",
      "text/plain": [
       "<Figure size 500x500 with 1 Axes>"
      ]
     },
     "metadata": {},
     "output_type": "display_data"
    }
   ],
   "source": [
    "dtrue = 40000e3\n",
    "vtrue = 4000\n",
    "vguess = 4e3 # set true guess\n",
    "end_time = 1 #s\n",
    "\n",
    "res, pulse_count, Pr = ranging_per_v(start_alt, end_time, vtrue) # assume 4 km/s\n",
    "print(\"Pulse count: \" + str(pulse_count))\n",
    "\n",
    "dguesses, sig = get_SNR(res*np.sqrt(Pr), np.sqrt(N_power), pulse_count, vtrue, vguess, dtrue)\n",
    "# units of Sqrt(W) -- amplitude\n",
    "\n",
    "'''\n",
    "fig, ax = plt.subplots(figsize=(5,5))\n",
    "plt.plot(times/(1e-6), np.real(res), c='maroon')\n",
    "plt.scatter(times[peaks]/(1e-6), np.zeros(len(peaks)), zorder=100)\n",
    "plt.title(\"HF chirp pulse train \\nfrom {:,} to {:,} km\".format(start_alt/1e3, (start_alt + end_time*vset)/1e3), fontsize=12)\n",
    "plt.xlabel(r\"Time ($\\mu$ s)\", fontsize=12)\n",
    "plt.ylabel(\"Amplitude\", fontsize = 12)\n",
    "'''\n",
    "\n",
    "# plot signal along with range guesses\n",
    "fig, ax = plt.subplots(figsize=(5,5))\n",
    "plt.plot(dguesses/1e3, np.abs(sig)**2/N_power, c='black', label='Received signal', alpha=1)\n",
    "plt.xlabel(r\"Guessed ranges (km)\")\n",
    "plt.ylabel(\"SNR\")\n",
    "#plt.title(\"Summed time-delayed pulse for {:,} km\".format(dtrue/1e3))\n",
    "\n",
    "# mark the true range\n",
    "plt.axvline(dtrue/1e3, color='red', lw=2, ls='--', label='True range')\n",
    "\n",
    "# fit with Gaussian\n",
    "x_fit, y_fit, std = find_gaussian_fit(dguesses/1e3, np.abs(sig)**2/N_power)\n",
    "print(\"Standard deviation: {:.5f}\".format(std))\n",
    "plt.plot(x_fit, y_fit, 'g-', alpha=0.5, label='Gaussian fit')\n",
    "\n",
    "ax.locator_params(axis='x', nbins=5)\n",
    "ax.xaxis.set_major_formatter(FormatStrFormatter('%.0f'))\n",
    "plt.xlim((dtrue/1e3-2, dtrue/1e3+2))\n",
    "plt.legend(loc='upper left', fontsize = 10)"
   ]
  },
  {
   "cell_type": "markdown",
   "id": "8635b43e",
   "metadata": {},
   "source": [
    "#### For one range, we get SNR per velocity:"
   ]
  },
  {
   "cell_type": "code",
   "execution_count": 12,
   "id": "4b19d2d2",
   "metadata": {},
   "outputs": [
    {
     "name": "stdout",
     "output_type": "stream",
     "text": [
      "0\n",
      "100\n"
     ]
    }
   ],
   "source": [
    "SNR_array = np.array([])\n",
    "plt.style.use(['science', 'notebook'])\n",
    "res, pulse_count, Pr = ranging_per_v(start_alt, end_time, 4e3) # assume 4 km/s\n",
    "\n",
    "vcount = 0\n",
    "vguesses = np.linspace(vtrue-.0005e3, vtrue+0.0005e3, 200)\n",
    "for v in vguesses:\n",
    "    if vcount % 100 == 0: print(vcount)\n",
    "        \n",
    "    _, shifted_signal  = get_SNR(res*np.sqrt(Pr), np.sqrt(N_power), pulse_count, 4e3, v, 40000e3) # true alt=40000\n",
    "    SNR = np.max((np.abs(shifted_signal)**2)/N_power) # in units of power\n",
    "    SNR_array = np.append(SNR_array, SNR) # not dB\n",
    "    vcount += 1"
   ]
  },
  {
   "cell_type": "code",
   "execution_count": 13,
   "id": "85e2b0b9",
   "metadata": {},
   "outputs": [
    {
     "name": "stdout",
     "output_type": "stream",
     "text": [
      "Standard deviation: 6.032061e-05\n"
     ]
    },
    {
     "data": {
      "image/png": "[encoded data removed]",
      "text/plain": [
       "<Figure size 500x500 with 1 Axes>"
      ]
     },
     "metadata": {},
     "output_type": "display_data"
    }
   ],
   "source": [
    "fig, ax = plt.subplots(1, 1, figsize=(5, 5))\n",
    "plt.plot(vguesses/1e3, SNR_array, color='black', label='Received signal')\n",
    "\n",
    "# fit with Gaussian\n",
    "x_fit, y_fit, std = find_gaussian_fit(vguesses/1e3, SNR_array)\n",
    "print(\"Standard deviation: {:e}\".format(std))\n",
    "plt.plot(x_fit, y_fit, 'g-', alpha=0.5, label='Gaussian fit')\n",
    "\n",
    "plt.xlabel(r\"Guessed velocities (km/s)\")\n",
    "plt.ylabel(\"SNR\")\n",
    "\n",
    "plt.xlim((vguesses[0]/1000, vguesses[-1]/1000))\n",
    "\n",
    "plt.axvline(vtrue/1e3, color='red', lw=2, ls='--', label='True velocity')\n",
    "\n",
    "ax.locator_params(axis='x', nbins=3)\n",
    "\n",
    "plt.legend(loc='upper left', fontsize = 10)\n",
    "ax.xaxis.set_major_formatter(FormatStrFormatter('%.4f'))\n",
    "plt.tight_layout()"
   ]
  },
  {
   "cell_type": "markdown",
   "id": "92e5762a",
   "metadata": {},
   "source": [
    "### 4) Nested for loop -- many ranges + many velocities\n",
    "Create a nested for loop implementing each above. Gather the true + recovered ranges, true + recovered velocities (convert phase correction -> velocity), SNR in a 5-value array. "
   ]
  },
  {
   "cell_type": "code",
   "execution_count": 14,
   "id": "36a56cfc",
   "metadata": {},
   "outputs": [],
   "source": [
    "def guess_both(dtrue, vtrue, vguess_offset, vguess_res):\n",
    "    velocity_guesses = np.linspace(vtrue-vguess_offset, vtrue+vguess_offset, vguess_res) # m/s\n",
    "    end_time = 2*dtrue/c  # s\n",
    "\n",
    "    final = np.zeros((800, len(velocity_guesses))) # 1200 hardcoded ig\n",
    "    res_std = np.zeros(len(velocity_guesses)) # for each v we append\n",
    "\n",
    "    sampling_rate_m = vtrue/hf_repetition_freq\n",
    "    res, pulse_count, Pr = ranging_per_v(dtrue, end_time, vtrue) # with true values\n",
    "    print(\"Pulse count: \" + str(pulse_count))\n",
    "\n",
    "    for idv, v in enumerate(tqdm(velocity_guesses)):\n",
    "        #noise = np.random.normal(loc=np.sqrt(N_power), size=len(res)) # in units of amplitude (sqrt(W))\n",
    "        distance_guesses, snr_guesses = get_SNR(res*np.sqrt(Pr), np.sqrt(N_power), pulse_count, vtrue, v, dtrue)\n",
    "        SNR = 10*np.log10((np.abs(snr_guesses)**2)/N_power + (10**-100))\n",
    "        \n",
    "        final[:,idv] = SNR\n",
    "    \n",
    "    return final, distance_guesses, velocity_guesses"
   ]
  },
  {
   "cell_type": "code",
   "execution_count": 15,
   "id": "fafcb403",
   "metadata": {},
   "outputs": [
    {
     "name": "stdout",
     "output_type": "stream",
     "text": [
      "Pulse count: 800\n"
     ]
    },
    {
     "name": "stderr",
     "output_type": "stream",
     "text": [
      "100%|█████████████████████████████████████████| 200/200 [00:39<00:00,  5.03it/s]\n"
     ]
    }
   ],
   "source": [
    "dtrue = 40000e3 # m\n",
    "vtrue = 4e3 \n",
    "vguess_offset = 0.0005e3\n",
    "vguess_res = 200 # how much velocity resolution for guesses\n",
    "\n",
    "final, distance_guesses, velocity_guesses = guess_both(dtrue, vtrue, vguess_offset, vguess_res)\n",
    "# dtrue = 400000e3, vtrue = 100000e3 \n",
    "#np.savetxt(\"final/final_400000km.txt\", final)"
   ]
  },
  {
   "cell_type": "markdown",
   "id": "f4b2ee49",
   "metadata": {},
   "source": [
    "Determine the rectangle that fits the top 0.1% of SNR and the resolution/accuracy of range/velocity:"
   ]
  },
  {
   "cell_type": "code",
   "execution_count": 16,
   "id": "790c00d6",
   "metadata": {},
   "outputs": [],
   "source": [
    "def get_rectangle(final, distance_guesses, velocity_guesses):\n",
    "    # DRAW CONTOUR\n",
    "    threshold = np.percentile(final, 99.9)  # Top 0.1% as the brightest\n",
    "    brightest_region = final >= threshold\n",
    "    labeled_array, num_features = label(brightest_region)\n",
    "    regions = find_objects(labeled_array)\n",
    "    largest_region = max(regions, key=lambda r: (r[0].stop - r[0].start) * (r[1].stop - r[1].start))\n",
    "\n",
    "    # Get the coordinates for the rectangle\n",
    "    y_start, y_stop = (distance_guesses[max(0, largest_region[0].start)] - dtrue), (distance_guesses[min(final.shape[0]-1, largest_region[0].stop)] - dtrue)\n",
    "    x_start, x_stop = (velocity_guesses[max(0, largest_region[1].start)] - vtrue), (velocity_guesses[min(final.shape[1]-1, largest_region[1].stop)] - vtrue)\n",
    "\n",
    "    return [x_start, x_stop, y_start, y_stop]\n",
    "    # returns rectangle with top 0.1% SNR (x, y)\n",
    "    \n",
    "def get_resolution(final, distance_guesses, velocity_guesses):\n",
    "    # We can assume that the brightest point is our recovered answer\n",
    "    max_index = np.unravel_index(np.argmax(final), final.shape)\n",
    "    # max_index[0] stores best range, max_index[1] stores best velocity\n",
    "    \n",
    "    # For the answer's range, what is velocity Gaussian? (horizontal slice)\n",
    "    _, _, std_vel = find_gaussian_fit(velocity_guesses, 10**(final[max_index[0]]/10))\n",
    "    \n",
    "    # For the answer's velocity, what is range Gaussian? (vertical slice)\n",
    "    x_fit, y_fit, std_range = find_gaussian_fit(distance_guesses/1e3, 10**(final[:,max_index[1]]/10))\n",
    "    \n",
    "    '''\n",
    "    # plot slice\n",
    "    plt.figure()\n",
    "    plt.plot(distance_guesses/1e3, 10**(final[:,max_index[1]]/10))\n",
    "    plt.plot(x_fit, y_fit)\n",
    "    plt.xlabel(\"Distance guesses (km)\")\n",
    "    plt.ylabel(\"SNR\")\n",
    "    #plt.xlim((40000-5, 40000+5))\n",
    "    plt.figure()\n",
    "    '''\n",
    "    \n",
    "    return std_range, std_vel # in km, m/s"
   ]
  },
  {
   "cell_type": "code",
   "execution_count": 18,
   "id": "43d16610",
   "metadata": {},
   "outputs": [
    {
     "name": "stdout",
     "output_type": "stream",
     "text": [
      "Range resolution: 2.555946e+02 km\n",
      "Velocity resolution: 1.083996e-01 m/s\n"
     ]
    }
   ],
   "source": [
    "# DEBUG for resolution\n",
    "std_range, std_vel = get_resolution(final, distance_guesses, velocity_guesses)\n",
    "print(\"Range resolution: {:e} km\".format(std_range))\n",
    "print(\"Velocity resolution: {:e} m/s\".format(std_vel))"
   ]
  },
  {
   "cell_type": "markdown",
   "id": "1d16be5c",
   "metadata": {},
   "source": [
    "Plot results (heatmap)."
   ]
  },
  {
   "cell_type": "code",
   "execution_count": null,
   "id": "efd45b11",
   "metadata": {},
   "outputs": [],
   "source": [
    "#plt.style.use('/Users/michpark/Sync/Documents/JPL-EUROPA/sample.mplstyle')\n",
    "\n",
    "# create the colorplot\n",
    "fig, ax = plt.subplots(figsize=(8, 6))\n",
    "vmin_val = (np.max(final)-np.min(final)) / 1.3 + np.min(final)\n",
    "\n",
    "heatmap = ax.imshow(final, cmap='viridis', origin=\"lower\",aspect='auto', vmin =vmin_val, \n",
    "              vmax = np.max(final), extent =[(np.min(velocity_guesses)-vtrue), \n",
    "                                     (np.max(velocity_guesses)-vtrue), (np.min(distance_guesses)-dtrue)/1e3, \n",
    "                                     (np.max(distance_guesses)-dtrue)/1e3])\n",
    "\n",
    "# Add colorbar\n",
    "cbar = plt.colorbar(heatmap)\n",
    "cbar.set_label('SNR (dB)', rotation=270, labelpad=15)\n",
    "\n",
    "# Customize the plot\n",
    "ax.set_ylabel(r'$\\Delta d$ (km)')\n",
    "ax.set_xlabel(r'$\\Delta v$ (m/s)')\n",
    "ax.set_title('Phase Shift Approach: {} pulses'.format(pulse_count, dtrue))\n",
    "\n",
    "recovered_indices = np.unravel_index(final.argmax(), final.shape)\n",
    "print(\"Recovered range: {:.6f} km\".format(distance_guesses[recovered_indices[0]]/1e3))\n",
    "print(\"Recovered velocity: {:.6f} km/s\".format(velocity_guesses[recovered_indices[1]]/1e3))\n",
    "print(\"--------------\")\n",
    "\n",
    "ax.locator_params(axis='x', nbins=5)\n",
    "ax.locator_params(axis='y', nbins=5)\n",
    "\n",
    "# Obtain top 0.1% SNR rectangle parameters\n",
    "[x_start, x_stop, y_start, y_stop] = get_rectangle(final, distance_guesses, velocity_guesses)\n",
    "\n",
    "# Display resolution params\n",
    "range_res, vel_res = get_resolution(final, distance_guesses, velocity_guesses)\n",
    "print(\"Range resolution: {:e} km\".format(range_res))\n",
    "print(\"Velocity resolution: {:e} m/s\".format(vel_res))\n",
    "\n",
    "# Draw the rectangle\n",
    "rect = plt.Rectangle((x_start - 0.5*np.diff(velocity_guesses)[0], y_start/1e3 - 0.5*np.diff(distance_guesses)[0]/1e3), (x_stop - x_start), (y_stop - y_start)/1e3, \n",
    "                     edgecolor='white', facecolor='none', linewidth=2, ls='--', path_effects=[path_effects.withStroke(linewidth=1, foreground='black')])\n",
    "ax.add_patch(rect)\n",
    "\n",
    "# annotate with the width + height of box\n",
    "#ax.annotate('{:.3f} cm/s'.format(vel_res), (x_start + (x_stop-x_start)/2, y_start-(y_stop-y_start)/2.9), ha='center', color='white', fontsize=14, fontweight='bold')\n",
    "#ax.annotate('{:.3f} km'.format(range_res), (x_start - (x_stop-x_start)/1.3, y_start + (y_stop-y_start)/2), va='center', color='white', fontsize=14, fontweight='bold')\n",
    "\n",
    "# annotate with recovered values\n",
    "#ax.text(x=0.05, y=0.93, s=r'Range offset: {:.4f} km'.format(np.mean([y_start, y_stop])/1e3), transform=ax.transAxes, color='white')\n",
    "#ax.text(x=0.05, y=0.89, s=r'Velocity offset: {:.4f} m/s'.format(np.mean([x_start, x_stop])), transform=ax.transAxes, color='white')\n",
    "\n",
    "plt.ylim((x_start/1e3-5, x_stop/1e3+5))\n",
    "\n",
    "plt.show()"
   ]
  },
  {
   "cell_type": "markdown",
   "id": "819c3643",
   "metadata": {},
   "source": [
    "## Range/velocity resolution vs. range!\n",
    "To explore how resolution changes as we go further and closer to Europa -- might be good to include in the paper to demonstrate tradeoff."
   ]
  },
  {
   "cell_type": "code",
   "execution_count": null,
   "id": "38aaf142",
   "metadata": {},
   "outputs": [],
   "source": [
    "true_range = np.linspace(40000e3, 100000e3, 10) # from 40,000 km to 100,000 km\n",
    "\n",
    "res_array = np.zeros(2) # collect resolutions\n",
    "\n",
    "# as Europa Clipper moves further away...\n",
    "for dtrue in true_range:\n",
    "    print(\"TRUE RANGE: {} km\".format(dtrue/1000))\n",
    "    # Run colormap determination\n",
    "    final, distance_guesses, velocity_guesses = guess_both(dtrue, 4000, 0.0005e3, 50)\n",
    "    \n",
    "    # get resolution \n",
    "    range_res, vel_res = get_resolution(final, distance_guesses, velocity_guesses)\n",
    "    res_array = np.vstack((res_array, [range_res, vel_res]))\n",
    "\n",
    "res_array = res_array[1:] # remove first row of zeroes"
   ]
  },
  {
   "cell_type": "code",
   "execution_count": null,
   "id": "f6fead8c",
   "metadata": {},
   "outputs": [],
   "source": [
    "fig, ax = plt.subplots(1, 2, figsize=(9,4))\n",
    "\n",
    "# PLOT RESOLUTION RESULTS\n",
    "ax[0].plot(true_range, res_array[:,0], c='navy')\n",
    "ax[1].plot(true_range, res_array[:,1], c='maroon')\n",
    "\n",
    "# PRETTIFY THE AXES\n",
    "ax[0].set_ylabel(\"Range resolution (km)\")\n",
    "ax[1].set_ylabel(\"Velocity resolution (m/s)\")\n",
    "\n",
    "for axes in ax.reshape(-1):\n",
    "    axes.locator_params(axis='x', nbins=7)\n",
    "    axes.locator_params(axis='y', nbins=5)\n",
    "    axes.set_xlabel(\"True range (km)\")\n",
    "    \n",
    "plt.tight_layout()"
   ]
  },
  {
   "cell_type": "markdown",
   "id": "574089b3",
   "metadata": {},
   "source": [
    "## Side-by-side pulse count comparison\n",
    "Compare 400 vs. 800 pulses, for paper."
   ]
  },
  {
   "cell_type": "code",
   "execution_count": null,
   "id": "0bcd61d9",
   "metadata": {},
   "outputs": [],
   "source": [
    "all_final = [final_part, final_full]\n",
    "plt.style.use(['science', 'notebook'])\n",
    "\n",
    "fig, axs = plt.subplots(1, 2, figsize=(15, 6))\n",
    "for j in range(2):\n",
    "    ax = axs[j]\n",
    "    final = all_final[j]\n",
    "    vmin_val = (np.max(final)-np.min(final)) / 1.2 + np.min(final)\n",
    "    heatmap = ax.imshow(final, cmap='viridis', origin=\"lower\",aspect='auto', vmin = vmin_val, \n",
    "              vmax = np.max(final), extent =[(np.min(velocity_guesses)-vtrue), \n",
    "                                     (np.max(velocity_guesses)-vtrue), (np.min(distance_guesses)-dtrue)/1e3, \n",
    "                                     (np.max(distance_guesses)-dtrue)/1e3])\n",
    "\n",
    "    # Customize the plot\n",
    "    ax.set_ylabel(r'$\\Delta d$ (km)')\n",
    "    ax.set_xlabel(r'$\\Delta v$ (m/s)')\n",
    "    \n",
    "    ax.locator_params(axis='x', nbins=5)\n",
    "    recovered_indices = np.unravel_index(final.argmax(), final.shape)\n",
    "    \n",
    "    # Draw the rectangle\n",
    "    [x_start, x_stop, y_start, y_stop] = get_rectangle(final, distance_guesses, velocity_guesses)\n",
    "    rect = plt.Rectangle((x_start - 0.5*np.diff(velocity_guesses)[0], y_start - 0.5*np.diff(distance_guesses)[0]/1e3), x_stop - x_start, y_stop - y_start, \n",
    "                         edgecolor='white', facecolor='none', linewidth=2, ls='--', path_effects=[path_effects.withStroke(linewidth=1, foreground='black')])\n",
    "    ax.add_patch(rect)\n",
    "    ax.set_xlim((-0.5, 0.5))\n",
    "    ax.set_ylim((-1, 1))\n",
    "\n",
    "axs[0].set_title(\"400 pulses\")\n",
    "axs[1].set_title(\"800 pulses\")\n",
    "plt.tight_layout()\n",
    "# Add colorbar\n",
    "bottom, top = 0.1, 0.9\n",
    "left, right = 0.1, 0.8\n",
    "fig.subplots_adjust(top=top, bottom=bottom, left=left, right=right, hspace=0.1, wspace=0.25)\n",
    "cbar_ax = fig.add_axes([0.83, bottom, 0.02, top-bottom])\n",
    "cbar = fig.colorbar(heatmap, cax=cbar_ax)\n",
    "cbar.set_label('SNR (dB)', rotation=270, labelpad=20)\n",
    "\n",
    "#ax.text(x=0.05, y=0.93, s=r'Recovered range: {:.6f} km'.format(distance_guesses[recovered_indices[0]]/1e3), transform=ax.transAxes, color='white')\n",
    "#ax.text(x=0.05, y=0.89, s=r'Recovered velocity: {:.6f} km/s'.format(velocity_guesses[recovered_indices[1]]/1e3), transform=ax.transAxes, color='white')\n",
    "plt.show()"
   ]
  },
  {
   "cell_type": "markdown",
   "id": "1677ff05",
   "metadata": {},
   "source": [
    "### 5) Monte Carlo type plot \n",
    "(1) Find the brightest SNR point on heatmap -> (2) Rerun new heatmap and get its brightest SNR point -> (3) repeat.\n",
    "We can see how the brightest SNR point deviates for multiple runs of the heatmap (standard deviation of the movement) to see extent of noise's influence"
   ]
  },
  {
   "cell_type": "code",
   "execution_count": null,
   "id": "1b6b4cb8",
   "metadata": {},
   "outputs": [],
   "source": [
    "# set up params\n",
    "dtrue = 1000000e3\n",
    "vtrue = 4000 # m/s -- the actual velocity\n",
    "\n",
    "hf_Ae = (Gt*hf_wavelength**2)/(4*np.pi)\n",
    "N_galactic = 10**-17 # W/mhz/m^2\n",
    "N_power = N_galactic * (hf_bandwidth/1e6) * hf_Ae # W\n",
    "\n",
    "n_iterations = 101\n",
    "\n",
    "pbar = tqdm(total=n_iterations)\n",
    "\n",
    "all_ranges = np.zeros(n_iterations)\n",
    "all_velocities = np.zeros(n_iterations)\n",
    "\n",
    "n = 1\n",
    "velocity_guesses = np.linspace(vtrue-0.0005e3, vtrue+0.0005e3, 50) # m/s\n",
    "end_time = 2*dtrue/c # s\n",
    "\n",
    "res, pulse_count, Pr = ranging_per_v(dtrue, end_time, vtrue) # with true values\n",
    "\n",
    "while n <= n_iterations:\n",
    "    # Preallocate results\n",
    "    max_SNR = -np.inf  # Initialize maximum SNR to a very low value\n",
    "    best_range = None\n",
    "    best_velocity = None\n",
    "\n",
    "    for idv, v in enumerate(velocity_guesses):\n",
    "        distance_guesses, snr_guesses = get_SNR(res*np.sqrt(Pr), np.sqrt(N_power), pulse_count, vtrue, v, dtrue)\n",
    "        SNR = 10*np.log10((np.abs(snr_guesses)**2)/N_power + (10**-100))\n",
    "        \n",
    "        current_SNR = np.max(SNR) # find the maximum among the distance guesses\n",
    "\n",
    "        if current_SNR > max_SNR:\n",
    "            max_SNR = current_SNR\n",
    "            best_range = distance_guesses[np.argmax(SNR)] / 1e3  # Store the best range in km\n",
    "            best_velocity = velocity_guesses[idv]  # Store the best velocity in m/s\n",
    "\n",
    "    all_ranges[n-1] = best_range\n",
    "    all_velocities[n-1] = best_velocity\n",
    "    \n",
    "    # iterate and update progress bar\n",
    "    n += 1\n",
    "    pbar.update(1)\n",
    "    \n",
    "pbar.close()"
   ]
  },
  {
   "cell_type": "code",
   "execution_count": null,
   "id": "c61d8ef9",
   "metadata": {},
   "outputs": [],
   "source": [
    "np.savetxt(\"iterative_heatmaps/allranges-millionkm.txt\", all_ranges)\n",
    "np.savetxt(\"iterative_heatmaps/allvelocities-millionkm.txt\", all_velocities)"
   ]
  },
  {
   "cell_type": "code",
   "execution_count": null,
   "id": "ac739171",
   "metadata": {},
   "outputs": [],
   "source": [
    "import math\n",
    "import scipy.stats as stats\n",
    "\n",
    "#all_ranges = np.loadtxt(\"iterative_heatmaps/allranges-full.txt\")\n",
    "#all_velocities = np.loadtxt(\"iterative_heatmaps/allvelocities-full.txt\")\n",
    "\n",
    "n = len(all_ranges)\n",
    "print(pulse_count)\n",
    "\n",
    "fig, ax = plt.subplots(1, 2, figsize=(9, 4))\n",
    "N_bins = math.ceil(np.sqrt(n)) # general policy -- number of bins = round up sqrt(number of data)\n",
    "\n",
    "# BUILD THE HISTOGRAMS\n",
    "binsd = np.linspace(-1, 1, int(N_bins/1.5))\n",
    "binsv = np.linspace(-0.5, 0.5, int(N_bins))\n",
    "_, xrange, _ = ax[0].hist(all_ranges-dtrue/1e3, color='#107394', bins=binsd, edgecolor='black', linewidth=1.2)\n",
    "ax[0].axvline(dtrue/1e3, ls='--', color='black')\n",
    "_, xvel, _ = ax[1].hist(all_velocities-vtrue, color='#7b0829', bins=binsv, edgecolor='black', linewidth=1.2)\n",
    "ax[1].axvline(vtrue, ls='--', color='black')\n",
    "\n",
    "# PRETTIFY THE AXES\n",
    "ax[0].set_xlabel(r'$\\Delta d$ (km)')\n",
    "ax[1].set_xlabel(r'$\\Delta v$ (m/s)')\n",
    "ax[0].set_ylabel(\"Frequency\")\n",
    "ax[0].set_xlim(-0.5, 0.5)\n",
    "ax[1].set_xlim(-0.5, 0.5)\n",
    "ax[0].locator_params(axis='x', nbins=5)\n",
    "ax[1].locator_params(axis='x', nbins=5)\n",
    "\n",
    "# CALCULATE BIAS AND SCATTER\n",
    "range_bias = np.median(all_ranges - np.full(len(all_ranges), dtrue/1e3))\n",
    "range_scatter = np.std(np.abs(all_ranges - np.full(len(all_ranges), dtrue/1e3)))\n",
    "velocity_bias = np.median(all_velocities - np.full(len(all_velocities), vtrue))\n",
    "velocity_scatter = np.std(np.abs(all_velocities - np.full(len(all_velocities), vtrue)))                    \n",
    "                       \n",
    "ax[0].text(x=0.05, y=0.91, s=r'$\\mu$ = {:.3f} km'.format(range_bias), transform=ax[0].transAxes, color='#107394', fontsize=13)\n",
    "ax[0].text(x=0.05, y=0.85, s=r'$\\sigma$ = {:.3f}'.format(range_scatter), transform=ax[0].transAxes, color='#107394', fontsize=13)\n",
    "ax[1].text(x=0.53, y=0.91, s=r'$\\mu$ = {:.2e} m/s'.format(velocity_bias), transform=ax[1].transAxes, color='#7b0829', fontsize=13)\n",
    "ax[1].text(x=0.53, y=0.85, s=r'$\\sigma$ = {:.2e}'.format(velocity_scatter), transform=ax[1].transAxes, color='#7b0829', fontsize=13)\n",
    "         \n",
    "for axes in ax.reshape(-1):\n",
    "    axes.yaxis.set_major_formatter(FormatStrFormatter('%.0f'))\n",
    "    axes.xaxis.set_major_formatter(FormatStrFormatter('%.2f'))\n",
    "ax[1].set_ylim(top=400)\n",
    "\n",
    "fig.suptitle(\"800 pulses\", fontsize=16)\n",
    "plt.tight_layout()"
   ]
  }
 ],
 "metadata": {
  "kernelspec": {
   "display_name": "Python [conda env:jwst] *",
   "language": "python",
   "name": "conda-env-jwst-py"
  },
  "language_info": {
   "codemirror_mode": {
    "name": "ipython",
    "version": 3
   },
   "file_extension": ".py",
   "mimetype": "text/x-python",
   "name": "python",
   "nbconvert_exporter": "python",
   "pygments_lexer": "ipython3",
   "version": "3.9.13"
  }
 },
 "nbformat": 4,
 "nbformat_minor": 5
}
